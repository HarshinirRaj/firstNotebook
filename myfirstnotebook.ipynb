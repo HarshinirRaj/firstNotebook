{
 "cells": [
  {
   "cell_type": "code",
   "execution_count": 1,
   "metadata": {},
   "outputs": [
    {
     "name": "stdout",
     "output_type": "stream",
     "text": [
      "first note\n"
     ]
    }
   ],
   "source": [
    "print('first note')"
   ]
  },
  {
   "cell_type": "code",
   "execution_count": 2,
   "metadata": {},
   "outputs": [
    {
     "name": "stdout",
     "output_type": "stream",
     "text": [
      "How cool is this\n"
     ]
    }
   ],
   "source": [
    "print('How cool is this')"
   ]
  },
  {
   "cell_type": "markdown",
   "metadata": {},
   "source": [
    "This is just a notes"
   ]
  },
  {
   "cell_type": "code",
   "execution_count": 3,
   "metadata": {},
   "outputs": [
    {
     "data": {
      "text/plain": [
       "5"
      ]
     },
     "execution_count": 3,
     "metadata": {},
     "output_type": "execute_result"
    }
   ],
   "source": [
    "2+3"
   ]
  },
  {
   "cell_type": "code",
   "execution_count": 4,
   "metadata": {},
   "outputs": [
    {
     "data": {
      "text/plain": [
       "1.5"
      ]
     },
     "execution_count": 4,
     "metadata": {},
     "output_type": "execute_result"
    }
   ],
   "source": [
    "3/2"
   ]
  },
  {
   "cell_type": "code",
   "execution_count": 5,
   "metadata": {},
   "outputs": [
    {
     "data": {
      "text/plain": [
       "1"
      ]
     },
     "execution_count": 5,
     "metadata": {},
     "output_type": "execute_result"
    }
   ],
   "source": [
    "3%2"
   ]
  },
  {
   "cell_type": "code",
   "execution_count": 6,
   "metadata": {},
   "outputs": [
    {
     "data": {
      "text/plain": [
       "8"
      ]
     },
     "execution_count": 6,
     "metadata": {},
     "output_type": "execute_result"
    }
   ],
   "source": [
    "2 ** 3"
   ]
  },
  {
   "cell_type": "code",
   "execution_count": 7,
   "metadata": {},
   "outputs": [
    {
     "data": {
      "text/plain": [
       "100"
      ]
     },
     "execution_count": 7,
     "metadata": {},
     "output_type": "execute_result"
    }
   ],
   "source": [
    "25 * 2 + 100 - 50"
   ]
  },
  {
   "cell_type": "code",
   "execution_count": 9,
   "metadata": {},
   "outputs": [
    {
     "data": {
      "text/plain": [
       "100"
      ]
     },
     "execution_count": 9,
     "metadata": {},
     "output_type": "execute_result"
    }
   ],
   "source": [
    "(25 * 2 + 100 - 50 + (25 * 3) - (50 + 25))"
   ]
  },
  {
   "cell_type": "code",
   "execution_count": 10,
   "metadata": {},
   "outputs": [
    {
     "ename": "SyntaxError",
     "evalue": "invalid syntax (<ipython-input-10-bf7ab45567fc>, line 1)",
     "output_type": "error",
     "traceback": [
      "\u001b[1;36m  File \u001b[1;32m\"<ipython-input-10-bf7ab45567fc>\"\u001b[1;36m, line \u001b[1;32m1\u001b[0m\n\u001b[1;33m    30+*6\u001b[0m\n\u001b[1;37m       ^\u001b[0m\n\u001b[1;31mSyntaxError\u001b[0m\u001b[1;31m:\u001b[0m invalid syntax\n"
     ]
    }
   ],
   "source": [
    "30+*6"
   ]
  },
  {
   "cell_type": "code",
   "execution_count": 11,
   "metadata": {},
   "outputs": [],
   "source": [
    "a = 5"
   ]
  },
  {
   "cell_type": "code",
   "execution_count": 12,
   "metadata": {},
   "outputs": [
    {
     "data": {
      "text/plain": [
       "5"
      ]
     },
     "execution_count": 12,
     "metadata": {},
     "output_type": "execute_result"
    }
   ],
   "source": [
    "a"
   ]
  },
  {
   "cell_type": "code",
   "execution_count": 37,
   "metadata": {},
   "outputs": [],
   "source": [
    "a = \"sadga\""
   ]
  },
  {
   "cell_type": "code",
   "execution_count": 14,
   "metadata": {},
   "outputs": [
    {
     "data": {
      "text/plain": [
       "'sadga'"
      ]
     },
     "execution_count": 14,
     "metadata": {},
     "output_type": "execute_result"
    }
   ],
   "source": [
    "a"
   ]
  },
  {
   "cell_type": "code",
   "execution_count": 17,
   "metadata": {},
   "outputs": [
    {
     "data": {
      "text/plain": [
       "float"
      ]
     },
     "execution_count": 17,
     "metadata": {},
     "output_type": "execute_result"
    }
   ],
   "source": [
    "type(a)"
   ]
  },
  {
   "cell_type": "code",
   "execution_count": 16,
   "metadata": {},
   "outputs": [],
   "source": [
    "a = 3.1"
   ]
  },
  {
   "cell_type": "code",
   "execution_count": 18,
   "metadata": {},
   "outputs": [],
   "source": [
    "a = 100\n",
    "b = 0.5\n",
    "c = a * b"
   ]
  },
  {
   "cell_type": "code",
   "execution_count": 19,
   "metadata": {},
   "outputs": [
    {
     "data": {
      "text/plain": [
       "50.0"
      ]
     },
     "execution_count": 19,
     "metadata": {},
     "output_type": "execute_result"
    }
   ],
   "source": [
    "c"
   ]
  },
  {
   "cell_type": "code",
   "execution_count": 2,
   "metadata": {},
   "outputs": [],
   "source": [
    "stringexp = \"this is a simple string\""
   ]
  },
  {
   "cell_type": "code",
   "execution_count": 3,
   "metadata": {},
   "outputs": [
    {
     "data": {
      "text/plain": [
       "23"
      ]
     },
     "execution_count": 3,
     "metadata": {},
     "output_type": "execute_result"
    }
   ],
   "source": [
    "len(stringexp)"
   ]
  },
  {
   "cell_type": "code",
   "execution_count": 5,
   "metadata": {},
   "outputs": [
    {
     "data": {
      "text/plain": [
       "'s'"
      ]
     },
     "execution_count": 5,
     "metadata": {},
     "output_type": "execute_result"
    }
   ],
   "source": [
    "stringexp[3]"
   ]
  },
  {
   "cell_type": "code",
   "execution_count": 6,
   "metadata": {},
   "outputs": [
    {
     "data": {
      "text/plain": [
       "'n'"
      ]
     },
     "execution_count": 6,
     "metadata": {},
     "output_type": "execute_result"
    }
   ],
   "source": [
    "stringexp[-2]"
   ]
  },
  {
   "cell_type": "markdown",
   "metadata": {},
   "source": [
    "getting substring"
   ]
  },
  {
   "cell_type": "code",
   "execution_count": 7,
   "metadata": {},
   "outputs": [
    {
     "data": {
      "text/plain": [
       "'is is a simple string'"
      ]
     },
     "execution_count": 7,
     "metadata": {},
     "output_type": "execute_result"
    }
   ],
   "source": [
    "stringexp[2:]"
   ]
  },
  {
   "cell_type": "code",
   "execution_count": 8,
   "metadata": {},
   "outputs": [
    {
     "data": {
      "text/plain": [
       "'this'"
      ]
     },
     "execution_count": 8,
     "metadata": {},
     "output_type": "execute_result"
    }
   ],
   "source": [
    "stringexp[:4]"
   ]
  },
  {
   "cell_type": "code",
   "execution_count": 11,
   "metadata": {},
   "outputs": [
    {
     "data": {
      "text/plain": [
       "'is a'"
      ]
     },
     "execution_count": 11,
     "metadata": {},
     "output_type": "execute_result"
    }
   ],
   "source": [
    "stringexp[5:9]"
   ]
  },
  {
   "cell_type": "markdown",
   "metadata": {},
   "source": [
    "stepsize -> skips the number of letters we specify"
   ]
  },
  {
   "cell_type": "code",
   "execution_count": 12,
   "metadata": {},
   "outputs": [
    {
     "data": {
      "text/plain": [
       "'ti sasml tig'"
      ]
     },
     "execution_count": 12,
     "metadata": {},
     "output_type": "execute_result"
    }
   ],
   "source": [
    "stringexp[::2]"
   ]
  },
  {
   "cell_type": "markdown",
   "metadata": {},
   "source": [
    "quick trick to reverse a string"
   ]
  },
  {
   "cell_type": "code",
   "execution_count": 13,
   "metadata": {},
   "outputs": [
    {
     "data": {
      "text/plain": [
       "'gnirts elpmis a si siht'"
      ]
     },
     "execution_count": 13,
     "metadata": {},
     "output_type": "execute_result"
    }
   ],
   "source": [
    "stringexp[::-1]"
   ]
  },
  {
   "cell_type": "code",
   "execution_count": 14,
   "metadata": {},
   "outputs": [
    {
     "data": {
      "text/plain": [
       "'THIS IS A SIMPLE STRING'"
      ]
     },
     "execution_count": 14,
     "metadata": {},
     "output_type": "execute_result"
    }
   ],
   "source": [
    "stringexp.upper()"
   ]
  },
  {
   "cell_type": "code",
   "execution_count": 15,
   "metadata": {},
   "outputs": [
    {
     "data": {
      "text/plain": [
       "['this', 'is', 'a', 'simple', 'string']"
      ]
     },
     "execution_count": 15,
     "metadata": {},
     "output_type": "execute_result"
    }
   ],
   "source": [
    "stringexp.split()"
   ]
  },
  {
   "cell_type": "code",
   "execution_count": 16,
   "metadata": {},
   "outputs": [
    {
     "data": {
      "text/plain": [
       "['th', 's ', 's a s', 'mple str', 'ng']"
      ]
     },
     "execution_count": 16,
     "metadata": {},
     "output_type": "execute_result"
    }
   ],
   "source": [
    "stringexp.split('i')"
   ]
  },
  {
   "cell_type": "code",
   "execution_count": 17,
   "metadata": {},
   "outputs": [
    {
     "data": {
      "text/plain": [
       "'This is a sample string Inserted'"
      ]
     },
     "execution_count": 17,
     "metadata": {},
     "output_type": "execute_result"
    }
   ],
   "source": [
    "# changing the format of strings by injecting variables is called string interpolation. 2 methods of doing this -> .format &\n",
    "#f-strings(preferred for string literals)\n",
    "'This is a sample string {}'.format('Inserted')"
   ]
  },
  {
   "cell_type": "code",
   "execution_count": 18,
   "metadata": {},
   "outputs": [
    {
     "data": {
      "text/plain": [
       "'Test this with string indexing'"
      ]
     },
     "execution_count": 18,
     "metadata": {},
     "output_type": "execute_result"
    }
   ],
   "source": [
    "'Test this {0} {2} {1}'.format('with','indexing','string')"
   ]
  },
  {
   "cell_type": "code",
   "execution_count": 19,
   "metadata": {},
   "outputs": [
    {
     "data": {
      "text/plain": [
       "'The quick brown fox'"
      ]
     },
     "execution_count": 19,
     "metadata": {},
     "output_type": "execute_result"
    }
   ],
   "source": [
    "'The {q} {b} {f}'.format(f='fox',q='quick',b='brown')"
   ]
  },
  {
   "cell_type": "code",
   "execution_count": 22,
   "metadata": {},
   "outputs": [
    {
     "name": "stdout",
     "output_type": "stream",
     "text": [
      "The result was 0.243\n"
     ]
    }
   ],
   "source": [
    "#float formatting follows {value:width.precisionf}\n",
    "result = 0.24283234367\n",
    "print('The result was {r:1.3f}'.format(r=result))"
   ]
  },
  {
   "cell_type": "code",
   "execution_count": 25,
   "metadata": {},
   "outputs": [
    {
     "name": "stdout",
     "output_type": "stream",
     "text": [
      "The name is Ding\n"
     ]
    }
   ],
   "source": [
    "name = 'Ding'\n",
    "print(f'The name is {name}')"
   ]
  },
  {
   "cell_type": "code",
   "execution_count": 2,
   "metadata": {},
   "outputs": [
    {
     "name": "stdout",
     "output_type": "stream",
     "text": [
      "concatenated list is ['one', 2, 3.0, 'four', 5]\n",
      "length of list is 5\n",
      "first element is one\n",
      "sublist after slicing is [3.0, 'four', 5]\n",
      "list after changing an element is ['one', 2, 3.0, 'this elememnt is changed', 5]\n"
     ]
    }
   ],
   "source": [
    "#lists work same as strings except that they can be mutable. Lists are in ordered form\n",
    "#list can contain different types of objects.\n",
    "list1 = ['one',2,3.0]\n",
    "list2 = ['four',5]\n",
    "concatenated_list = list1 + list2\n",
    "print(\"concatenated list is {r}\".format(r = concatenated_list))\n",
    "print(\"length of list is {r}\".format(r=len(concatenated_list)))\n",
    "print(\"first element is {r}\".format(r=concatenated_list[0]))\n",
    "print(\"sublist after slicing is {r}\".format(r=concatenated_list[2:]))\n",
    "concatenated_list[3] = \"this elememnt is changed\"\n",
    "print(\"list after changing an element is {r}\".format(r=concatenated_list))"
   ]
  },
  {
   "cell_type": "code",
   "execution_count": 5,
   "metadata": {},
   "outputs": [
    {
     "name": "stdout",
     "output_type": "stream",
     "text": [
      "list after appending ...['one', 2, 3.0, 'this elememnt is changed', 5, 'six', 'six']\n",
      "list after poping at end...['one', 2, 3.0, 'this elememnt is changed', 5, 'six']\n",
      "list after poping at given index...['one', 2, 3.0, 5, 'six']\n"
     ]
    }
   ],
   "source": [
    "# append and pop from list\n",
    "concatenated_list.append('six')\n",
    "print(\"list after appending ...{}\".format(concatenated_list))\n",
    "concatenated_list.pop()\n",
    "print(\"list after poping at end...{}\".format(concatenated_list))\n",
    "concatenated_list.pop(3)\n",
    "print(\"list after poping at given index...{}\".format(concatenated_list))\n"
   ]
  },
  {
   "cell_type": "code",
   "execution_count": 6,
   "metadata": {},
   "outputs": [
    {
     "name": "stdout",
     "output_type": "stream",
     "text": [
      "alpha list after sorting....['e', 't', 'x', 'z']\n",
      "num list after reversing...[1, 8, 2, 5]\n"
     ]
    }
   ],
   "source": [
    "#sort and reverse list\n",
    "alphalist = ['x','e','z','t']\n",
    "numlist = [5,2,8,1]\n",
    "alphalist.sort()\n",
    "print(\"alpha list after sorting....{}\".format(alphalist))\n",
    "numlist.reverse()\n",
    "print(\"num list after reversing...{}\".format(numlist))"
   ]
  },
  {
   "cell_type": "code",
   "execution_count": 9,
   "metadata": {},
   "outputs": [
    {
     "name": "stdout",
     "output_type": "stream",
     "text": [
      "milk value : 1.23\n",
      "keys : dict_keys(['apples', 'oranges', 'milk'])\n",
      "values : dict_values([2.99, 1.56, 1.23])\n",
      "items : dict_items([('apples', 2.99), ('oranges', 1.56), ('milk', 1.23)])\n",
      "extracting hulk : hulk\n",
      "extracting thor : Thor\n",
      "new dictionary after adding : {'item1': 100, 'item2': ['captain', 'iron', 'hulk'], 'item3': {'avenger1': 'Thor', 'avenger2': 'Wanda', 'avenger3': 'Romanoff'}}\n"
     ]
    }
   ],
   "source": [
    "#dictionaries are unordered key-value pairs and cannot be sorted\n",
    "my_dict = {'apples' : 2.99, 'oranges' : 1.56, 'milk' : 1.23}\n",
    "print(\"milk value : {}\".format(my_dict['milk']))\n",
    "print(\"keys : {}\".format(my_dict.keys()))\n",
    "print(\"values : {}\".format(my_dict.values()))\n",
    "print(\"items : {}\".format(my_dict.items()))\n",
    "complex_dict = {'item1':100,'item2':['captain','iron','hulk'],'item3':{'avenger1':'Thor','avenger2':'Wanda'}}\n",
    "print(\"extracting hulk : {}\".format(complex_dict['item2'][2]))\n",
    "print(\"extracting thor : {}\".format(complex_dict['item3']['avenger1']))\n",
    "complex_dict['item3']['avenger3'] ='Romanoff'\n",
    "print(\"new dictionary after adding : {}\".format(complex_dict))\n"
   ]
  },
  {
   "cell_type": "code",
   "execution_count": 1,
   "metadata": {},
   "outputs": [
    {
     "name": "stdout",
     "output_type": "stream",
     "text": [
      "item at first index : one\n",
      "letter 'a' occurence times : 2\n",
      "This gives the first occurance of given element : 3\n"
     ]
    }
   ],
   "source": [
    "#tuples are similar to list except tuples are immutable. They use () instead of []\n",
    "my_tuple = ('one',2,3.2,'a','a')\n",
    "print(\"item at first index : {}\".format(my_tuple[0]))\n",
    "print(\"letter 'a' occurence times : {}\".format(my_tuple.count('a')))\n",
    "print(\"This gives the first occurance of given element : {}\".format(my_tuple.index('a')))\n"
   ]
  },
  {
   "cell_type": "code",
   "execution_count": 5,
   "metadata": {},
   "outputs": [
    {
     "name": "stdout",
     "output_type": "stream",
     "text": [
      "direct set assigning  : {1, 2, 3}\n",
      "set doesn't allow duplicates : {'a'}\n",
      "type casting a list of duplicate values to set takes only unique values : {1, 2, 3}\n"
     ]
    }
   ],
   "source": [
    "#sets are unordered collection of unique elements.\n",
    "my_set = {1,2,3}\n",
    "print(\"direct set assigning  : {}\".format(my_set))\n",
    "my_set2 = set()\n",
    "my_set2.add('a')\n",
    "my_set2.add('a')\n",
    "print(\"set doesn't allow duplicates : {}\".format(my_set2))\n",
    "list1 = [1,1,1,1,2,2,2,3,3,3,3]\n",
    "my_set3 = set(list1)\n",
    "print(\"type casting a list of duplicate values to set takes only unique values : {}\".format(my_set3))"
   ]
  },
  {
   "cell_type": "code",
   "execution_count": 8,
   "metadata": {},
   "outputs": [
    {
     "name": "stdout",
     "output_type": "stream",
     "text": [
      "True\n"
     ]
    },
    {
     "data": {
      "text/plain": [
       "bool"
      ]
     },
     "execution_count": 8,
     "metadata": {},
     "output_type": "execute_result"
    }
   ],
   "source": [
    "print(1 == 1)\n",
    "type(False)"
   ]
  },
  {
   "cell_type": "code",
   "execution_count": 14,
   "metadata": {},
   "outputs": [
    {
     "name": "stdout",
     "output_type": "stream",
     "text": [
      "Overwriting myfile.txt\n"
     ]
    }
   ],
   "source": [
    "%%writefile myfile.txt\n",
    "hhgfffj\n",
    "jhffjhjg"
   ]
  },
  {
   "cell_type": "code",
   "execution_count": 17,
   "metadata": {},
   "outputs": [
    {
     "data": {
      "text/plain": [
       "'hhgfffj\\njhffjhjg\\n'"
      ]
     },
     "execution_count": 17,
     "metadata": {},
     "output_type": "execute_result"
    }
   ],
   "source": [
    "openmyfile = open('myfile.txt')\n",
    "openmyfile.read()"
   ]
  },
  {
   "cell_type": "code",
   "execution_count": 16,
   "metadata": {},
   "outputs": [
    {
     "data": {
      "text/plain": [
       "'C:\\\\Users\\\\harsh\\\\PythonPractice\\\\Practice'"
      ]
     },
     "execution_count": 16,
     "metadata": {},
     "output_type": "execute_result"
    }
   ],
   "source": [
    "pwd"
   ]
  },
  {
   "cell_type": "code",
   "execution_count": 18,
   "metadata": {},
   "outputs": [
    {
     "data": {
      "text/plain": [
       "'hhgfffj\\njhffjhjg\\n'"
      ]
     },
     "execution_count": 18,
     "metadata": {},
     "output_type": "execute_result"
    }
   ],
   "source": [
    "#calling again read will give empty string as the cursor reaches end when we read first time. so set cursor position \n",
    "#to starting if you want to read again\n",
    "openmyfile.seek(0)\n",
    "openmyfile.read()"
   ]
  },
  {
   "cell_type": "code",
   "execution_count": 19,
   "metadata": {},
   "outputs": [
    {
     "data": {
      "text/plain": [
       "['hhgfffj\\n', 'jhffjhjg\\n']"
      ]
     },
     "execution_count": 19,
     "metadata": {},
     "output_type": "execute_result"
    }
   ],
   "source": [
    "openmyfile.seek(0)\n",
    "#get list\n",
    "openmyfile.readlines()"
   ]
  },
  {
   "cell_type": "code",
   "execution_count": 23,
   "metadata": {},
   "outputs": [],
   "source": [
    "difflocationfile = open(\"D:\\\\testpython.txt\")\n",
    "difflocationfile.close()"
   ]
  },
  {
   "cell_type": "code",
   "execution_count": 24,
   "metadata": {},
   "outputs": [],
   "source": [
    "#no need to close file if we use below\n",
    "with open('myfile.txt') as newVar:\n",
    "    contents = newVar.read()\n"
   ]
  },
  {
   "cell_type": "code",
   "execution_count": 25,
   "metadata": {},
   "outputs": [
    {
     "data": {
      "text/plain": [
       "'hhgfffj\\njhffjhjg\\n'"
      ]
     },
     "execution_count": 25,
     "metadata": {},
     "output_type": "execute_result"
    }
   ],
   "source": [
    "contents"
   ]
  },
  {
   "cell_type": "code",
   "execution_count": 28,
   "metadata": {},
   "outputs": [],
   "source": [
    "#file permissions. modes - read, write, append\n",
    "with open('writefile.txt',mode='w') as f:\n",
    "    f.write('This is a created file line1')"
   ]
  },
  {
   "cell_type": "code",
   "execution_count": 30,
   "metadata": {},
   "outputs": [
    {
     "name": "stdout",
     "output_type": "stream",
     "text": [
      "This is a created file line1\n"
     ]
    }
   ],
   "source": [
    "with open('writefile.txt',mode='r') as f:\n",
    "    print(f.read())"
   ]
  },
  {
   "cell_type": "code",
   "execution_count": 31,
   "metadata": {},
   "outputs": [],
   "source": [
    "with open('writefile.txt',mode='a') as f:\n",
    "    f.write('\\nThis is appended line')"
   ]
  },
  {
   "cell_type": "code",
   "execution_count": 32,
   "metadata": {},
   "outputs": [
    {
     "name": "stdout",
     "output_type": "stream",
     "text": [
      "This is a created file line1\n",
      "This is appended line\n"
     ]
    }
   ],
   "source": [
    "with open('writefile.txt',mode='r') as f:\n",
    "    print(f.read())"
   ]
  },
  {
   "cell_type": "code",
   "execution_count": 5,
   "metadata": {},
   "outputs": [
    {
     "name": "stdout",
     "output_type": "stream",
     "text": [
      "True\n",
      "False\n",
      "True\n",
      "False\n",
      "True\n",
      "False\n",
      "True\n",
      "False\n"
     ]
    }
   ],
   "source": [
    "#comparision operators\n",
    "print(2 == 2)\n",
    "print('2' == 2)\n",
    "print('bye' == 'bye')\n",
    "print('Hello' == 'hello')\n",
    "print(2.0 == 2)\n",
    "# logical operators - and or not\n",
    "print(2 == 2 and 4 == 3)\n",
    "print(2 == 2 or 4 == 3)\n",
    "print(not 2 == 2)"
   ]
  },
  {
   "cell_type": "code",
   "execution_count": 1,
   "metadata": {},
   "outputs": [
    {
     "name": "stdout",
     "output_type": "stream",
     "text": [
      "Winter Soilder\n",
      "Bad avenger\n"
     ]
    }
   ],
   "source": [
    "#statements\n",
    "name = 'Bucky'\n",
    "if name == 'Bucky':\n",
    "    print(\"Winter Soilder\")\n",
    "    print(\"Bad avenger\")\n",
    "elif name == 'Hulk':\n",
    "    print('Green avenger')\n",
    "else:\n",
    "    print(\"Captain Marvel\")"
   ]
  },
  {
   "cell_type": "code",
   "execution_count": 14,
   "metadata": {},
   "outputs": [
    {
     "name": "stdout",
     "output_type": "stream",
     "text": [
      "Odd number\n",
      "Even number : 2\n",
      "Odd number\n",
      "Even number : 4\n",
      "Odd number\n",
      "Even number : 6\n",
      "Odd number\n",
      "Even number : 8\n",
      "Odd number\n",
      "Even number : 10\n",
      "Total sum : 55\n",
      "h\n",
      "e\n",
      "l\n",
      "l\n",
      "o\n",
      "tuple : 1\n",
      "tuple : 2\n",
      "tuple : 3\n",
      "tuple list : (1, 2)\n",
      "tuple list : (3, 4)\n",
      "tuple list : (5, 6)\n",
      "extracted a single item of a tuple with tuple unpacking method: 1\n",
      "extracted a single item of a tuple with tuple unpacking method: 3\n",
      "extracted a single item of a tuple with tuple unpacking method: 5\n",
      "By default iterates only keys : k1\n",
      "By default iterates only keys : k2\n",
      "By default iterates only keys : k3\n",
      "prints key-value pairs : ('k1', 1)\n",
      "prints key-value pairs : ('k2', 2)\n",
      "prints key-value pairs : ('k3', 3)\n",
      "using tuple unpacking : k1\n",
      "using tuple unpacking : k2\n",
      "using tuple unpacking : k3\n",
      "printing values : 1\n",
      "printing values : 2\n",
      "printing values : 3\n"
     ]
    }
   ],
   "source": [
    "# for loop\n",
    "numlist = [1,2,3,4,5,6,7,8,9,10]\n",
    "#even numbers\n",
    "for i in numlist:\n",
    "    if i % 2 == 0:\n",
    "        print(f'Even number : {i}')\n",
    "    else:\n",
    "        print(\"Odd number\")\n",
    "\n",
    "# sum of numbers\n",
    "sumtot = 0\n",
    "for i in numlist:\n",
    "    sumtot = sumtot + i\n",
    "print(\"Total sum : {r}\".format(r=sumtot))\n",
    "\n",
    "# for loop with string\n",
    "greet = 'hello'\n",
    "for i in greet:\n",
    "    print(i)\n",
    "    \n",
    "# tuples\n",
    "tup = (1,2,3)\n",
    "for i in tup:\n",
    "    print(\"tuple : {}\".format(i))\n",
    "    \n",
    "# tuple unpacking method\n",
    "tuplelist = [(1,2),(3,4),(5,6)]\n",
    "for i in tuplelist:\n",
    "    print(\"tuple list : {}\".format(i))\n",
    "for (a,b) in tuplelist:\n",
    "    print(\"extracted a single item of a tuple with tuple unpacking method: {}\".format(a))\n",
    "    \n",
    "# dictionaries\n",
    "dict = {'k1':1, 'k2':2,'k3':3}\n",
    "for i in dict:\n",
    "    print(\"By default iterates only keys : {}\".format(i))\n",
    "for i in dict.items():\n",
    "    print(\"prints key-value pairs : {}\".format(i))\n",
    "for i,j in dict.items():\n",
    "    print(\"using tuple unpacking : {}\".format(i))\n",
    "for i in dict.values():\n",
    "    print(\"printing values : {}\".format(i))"
   ]
  },
  {
   "cell_type": "code",
   "execution_count": 2,
   "metadata": {},
   "outputs": [
    {
     "name": "stdout",
     "output_type": "stream",
     "text": [
      "0\n",
      "1\n",
      "2\n",
      "3\n",
      "4\n",
      "While loop ends\n",
      "used pass to avoid EOF error\n",
      "1\n",
      "3\n"
     ]
    }
   ],
   "source": [
    "# while loop, keywords - break, continue, pass\n",
    "# pass don't do anything\n",
    "x = 0\n",
    "while x < 5:\n",
    "    print(x)\n",
    "    x = x + 1\n",
    "else:\n",
    "     print(\"While loop ends\")\n",
    "    \n",
    "while x<5:\n",
    "    #comment\n",
    "    pass\n",
    "print(\"used pass to avoid EOF error\")\n",
    "\n",
    "test = [1,2,3,4,5]\n",
    "for i in test:\n",
    "    if i==2:\n",
    "        continue\n",
    "    elif i==4:\n",
    "        break\n",
    "    else:\n",
    "        print(i)"
   ]
  },
  {
   "cell_type": "code",
   "execution_count": 4,
   "metadata": {},
   "outputs": [
    {
     "name": "stdout",
     "output_type": "stream",
     "text": [
      "0\n",
      "1\n",
      "2\n",
      "3\n",
      "4\n",
      "step size...\n",
      "0\n",
      "2\n",
      "4\n",
      "6\n",
      "8\n",
      "casting to list...[0, 2, 4, 6, 8, 10]\n",
      "(0, 'h')\n",
      "(1, 'e')\n",
      "(2, 'l')\n",
      "(3, 'l')\n",
      "(4, 'o')\n",
      "letter at index 0 is h\n",
      "letter at index 1 is e\n",
      "letter at index 2 is l\n",
      "letter at index 3 is l\n",
      "letter at index 4 is o\n",
      "zipped tuples....(1, 'a', 200)\n",
      "zipped tuples....(2, 'b', 400)\n",
      "zipped tuples....(3, 'c', 800)\n",
      "[(1, 'a', 200), (2, 'b', 400), (3, 'c', 800)]\n",
      "True\n",
      "False\n",
      "True\n",
      "minimum....10\n",
      "maximum...30\n",
      "randomly shuffled list....[1, 5, 3, 4, 2]\n",
      "random integer...0\n",
      "What is your name ?hgjhk\n",
      "hgjhk\n",
      "Favourite number : 38\n"
     ]
    },
    {
     "data": {
      "text/plain": [
       "str"
      ]
     },
     "execution_count": 4,
     "metadata": {},
     "output_type": "execute_result"
    }
   ],
   "source": [
    "#useful operators\n",
    "#1) range - functions just like string slicing functionality\n",
    "for i in range(0,5):\n",
    "    print(i)\n",
    "# we can also give step size\n",
    "print(\"step size...\")\n",
    "for i in range(0,10,2):\n",
    "    print(i)\n",
    "# casting range to list\n",
    "print(\"casting to list...{}\".format(list(range(0,11,2))))\n",
    "# 2) indexing using enumerate\n",
    "word = 'hello'\n",
    "for item in enumerate(word):\n",
    "    print(item)\n",
    "for item,value in enumerate(word):\n",
    "    print(\"letter at index {} is {}\".format(item,value))\n",
    "# 3) zip - mapping two lists and pairing them as tuples\n",
    "list1 = [1,2,3]\n",
    "list2 = ['a','b','c','d']\n",
    "list3 = [200,400,800]\n",
    "for i in zip(list1,list2,list3):\n",
    "    print(\"zipped tuples....{}\".format(i))\n",
    "# to return as list again, cast it to list\n",
    "print(list(zip(list1,list2,list3)))\n",
    "# 4) in keyword - to check if an object is in given list\n",
    "print('i' in ['a','e','i','o','u'])\n",
    "d = {'key1' : 345,'key2':789}\n",
    "print('key3' in d)\n",
    "print(345 in d.values())\n",
    "# 5) min, max\n",
    "print(\"minimum....{}\".format(min([10,20,30])))\n",
    "print(\"maximum...{}\".format(max([10,20,30])))\n",
    "# 6) some functions from random library\n",
    "# shuffle return nothing\n",
    "from random import shuffle\n",
    "random_list = [1,2,3,4,5]\n",
    "shuffle(random_list)\n",
    "print(\"randomly shuffled list....{}\".format(random_list))\n",
    "# randint return integer\n",
    "from random import randint\n",
    "print(\"random integer...{}\".format(randint(0,100)))\n",
    "# 7) grab input from user\n",
    "result = input('What is your name ?')\n",
    "print(result)\n",
    "stringresult = input('Favourite number : ')\n",
    "type(stringresult)\n"
   ]
  },
  {
   "cell_type": "code",
   "execution_count": 14,
   "metadata": {},
   "outputs": [
    {
     "name": "stdout",
     "output_type": "stream",
     "text": [
      "['w', 'o', 'r', 'd']\n",
      "['h', 'e', 'l', 'l', 'o']\n",
      "[0, 1, 4, 9, 16]\n",
      "[0, 2, 4, 6, 8, 10]\n",
      "[50.0, 68.0, 86.9]\n",
      "[0, 'ODD', 2, 'ODD', 4, 'ODD', 6, 'ODD', 8, 'ODD', 10]\n",
      "[2, 20, 200, 4, 40, 400, 6, 60, 600]\n"
     ]
    }
   ],
   "source": [
    "# list comprehensions - used insted of for loop and appending items to list\n",
    "listdummy = []\n",
    "for letter in 'word':\n",
    "    listdummy.append(letter)\n",
    "print(listdummy)\n",
    "# not recommended because readibility will be lost\n",
    "word = 'hello'\n",
    "wordlist = [letter for letter in  word]\n",
    "print(wordlist)\n",
    "squarelist = [l**2 for l in range(0,5)]\n",
    "print(squarelist)\n",
    "# adding if condition\n",
    "iflist = [l for l in range(0,11) if l%2==0]\n",
    "print(iflist)\n",
    "celcius = [10,20,30.5]\n",
    "faren = [((9/5)*temp + 32) for temp in celcius]\n",
    "print(faren)\n",
    "#if else - order is reversed \n",
    "elselist = [x if x%2==0 else 'ODD' for x in range(0,11)]\n",
    "print(elselist)\n",
    "# nested for loops\n",
    "nested = [x*y for x in [2,4,6] for y in [1,10,100]]\n",
    "print(nested)"
   ]
  },
  {
   "cell_type": "code",
   "execution_count": 19,
   "metadata": {},
   "outputs": [
    {
     "name": "stdout",
     "output_type": "stream",
     "text": [
      "1\n",
      "2\n",
      "fizz\n",
      "4\n",
      "buzz\n",
      "fizz\n",
      "7\n",
      "8\n",
      "fizz\n",
      "buzz\n",
      "11\n",
      "fizz\n",
      "13\n",
      "14\n",
      "fizzbuzz\n",
      "16\n",
      "17\n",
      "fizz\n",
      "19\n",
      "buzz\n",
      "fizz\n",
      "22\n",
      "23\n",
      "fizz\n",
      "buzz\n",
      "26\n",
      "fizz\n",
      "28\n",
      "29\n",
      "fizzbuzz\n",
      "31\n",
      "32\n",
      "fizz\n",
      "34\n",
      "buzz\n",
      "fizz\n",
      "37\n",
      "38\n",
      "fizz\n",
      "buzz\n",
      "41\n",
      "fizz\n",
      "43\n",
      "44\n",
      "fizzbuzz\n",
      "46\n",
      "47\n",
      "fizz\n",
      "49\n",
      "buzz\n",
      "fizz\n",
      "52\n",
      "53\n",
      "fizz\n",
      "buzz\n",
      "56\n",
      "fizz\n",
      "58\n",
      "59\n",
      "fizzbuzz\n",
      "61\n",
      "62\n",
      "fizz\n",
      "64\n",
      "buzz\n",
      "fizz\n",
      "67\n",
      "68\n",
      "fizz\n",
      "buzz\n",
      "71\n",
      "fizz\n",
      "73\n",
      "74\n",
      "fizzbuzz\n",
      "76\n",
      "77\n",
      "fizz\n",
      "79\n",
      "buzz\n",
      "fizz\n",
      "82\n",
      "83\n",
      "fizz\n",
      "buzz\n",
      "86\n",
      "fizz\n",
      "88\n",
      "89\n",
      "fizzbuzz\n",
      "91\n",
      "92\n",
      "fizz\n",
      "94\n",
      "buzz\n",
      "fizz\n",
      "97\n",
      "98\n",
      "fizz\n"
     ]
    }
   ],
   "source": [
    "# print 1-100, multiples of 3 - fizz, 5-buzz, 3&5 - fizzbuzz\n",
    "randomList = range(1,100)\n",
    "for i in randomList:\n",
    "    if(i%3==0 and i%5==0):\n",
    "        print(\"fizzbuzz\")\n",
    "    elif(i%5==0):\n",
    "        print(\"buzz\")\n",
    "    elif(i%3==0):\n",
    "        print(\"fizz\")\n",
    "    else:\n",
    "        print(i)"
   ]
  },
  {
   "cell_type": "code",
   "execution_count": 9,
   "metadata": {},
   "outputs": [
    {
     "name": "stdout",
     "output_type": "stream",
     "text": [
      "Hello\n",
      "square of a number : 25\n",
      "default name\n"
     ]
    }
   ],
   "source": [
    "#functions - use snake casing as naming convention\n",
    "\n",
    "def first_function():\n",
    "    print(\"Hello\")\n",
    "def param_function_return(num):\n",
    "    return num*num\n",
    "def default_param(name = 'default name'):\n",
    "    print(name)\n",
    "\n",
    "first_function()\n",
    "result = param_function_return(5)\n",
    "print(\"square of a number : {}\".format(result))\n",
    "default_param()\n",
    "\n"
   ]
  },
  {
   "cell_type": "code",
   "execution_count": 13,
   "metadata": {},
   "outputs": [
    {
     "name": "stdout",
     "output_type": "stream",
     "text": [
      "Odd number : 1\n",
      "even number : 2\n",
      "Odd number : 3\n",
      "even number : 4\n",
      "Odd number : 5\n",
      "even number : 6\n",
      "Odd number : 7\n",
      "even number : 8\n",
      "Odd number : 9\n",
      "Odd number : 1\n",
      "Odd number : 3\n",
      "Odd number : 9\n"
     ]
    },
    {
     "data": {
      "text/plain": [
       "[6, 4]"
      ]
     },
     "execution_count": 13,
     "metadata": {},
     "output_type": "execute_result"
    }
   ],
   "source": [
    "# functions with logics\n",
    "def even_nums(number=5):\n",
    "    for i in range(1,number):\n",
    "        if(i%2 == 0):\n",
    "            print(\"even number : {}\".format(i))\n",
    "        else:\n",
    "            print(\"Odd number : {}\".format(i))\n",
    "even_nums(10)\n",
    "\n",
    "def evens_list(listinput):\n",
    "    resultlist = []\n",
    "    for i in listinput:\n",
    "        if(i%2 == 0):\n",
    "            resultlist.append(i)\n",
    "        else:\n",
    "            print(\"Odd number : {}\".format(i))\n",
    "    return resultlist\n",
    "evens_list([1,3,6,9,4])"
   ]
  },
  {
   "cell_type": "code",
   "execution_count": 3,
   "metadata": {},
   "outputs": [
    {
     "data": {
      "text/plain": [
       "('goog', 4000)"
      ]
     },
     "execution_count": 3,
     "metadata": {},
     "output_type": "execute_result"
    }
   ],
   "source": [
    "# tuple unpacking in function\n",
    "def getMaxStocks():\n",
    "    stocks = [('app',2000),('goog',4000),('amazon',1000)]\n",
    "    maxprice = 0\n",
    "    stockname = ''\n",
    "    for (name,price) in stocks:\n",
    "        if price > maxprice:\n",
    "            maxprice = price\n",
    "            stockname = name\n",
    "        else:\n",
    "            pass\n",
    "    \n",
    "    return (stockname,maxprice)\n",
    "\n",
    "\n",
    "getMaxStocks()"
   ]
  },
  {
   "cell_type": "code",
   "execution_count": 14,
   "metadata": {},
   "outputs": [
    {
     "name": "stdout",
     "output_type": "stream",
     "text": [
      "['o', '', '']\n"
     ]
    }
   ],
   "source": [
    "from random import shuffle\n",
    "def randomlist():\n",
    "    numlist = ['','o','']\n",
    "    shuffle(numlist)\n",
    "    return numlist\n",
    "\n",
    "result = randomlist()\n",
    "print(result)"
   ]
  },
  {
   "cell_type": "code",
   "execution_count": 36,
   "metadata": {},
   "outputs": [],
   "source": [
    "def getInput():\n",
    "    setInput = 3\n",
    "    while setInput not in ['0','1','2']:\n",
    "        setInput = input('Enter guess')\n",
    "    else:\n",
    "        print(\"Not valid\")\n",
    "        \n",
    "    return int(setInput)"
   ]
  },
  {
   "cell_type": "code",
   "execution_count": 43,
   "metadata": {},
   "outputs": [],
   "source": [
    "def guess_check(numlist,guess):\n",
    "    print(guess)\n",
    "    if(numlist[guess] == 'o'):\n",
    "        print('correct')\n",
    "    else:\n",
    "        print('incorrect')"
   ]
  },
  {
   "cell_type": "code",
   "execution_count": 44,
   "metadata": {},
   "outputs": [
    {
     "name": "stdout",
     "output_type": "stream",
     "text": [
      "Enter guess1\n",
      "Not valid\n",
      "1\n",
      "correct\n"
     ]
    }
   ],
   "source": [
    "result = randomlist()\n",
    "guessinput = getInput()\n",
    "guess_check(result,guessinput)"
   ]
  },
  {
   "cell_type": "code",
   "execution_count": 6,
   "metadata": {},
   "outputs": [],
   "source": [
    "# *args - used to pass arguments dynamically to a function in the form of tuples\n",
    "# **kwargs - used to pass dynamic keyword arguments i.e, dictionary\n",
    "\n",
    "def testdynamicargs(*args):\n",
    "    print(args)\n",
    "    print(sum(args))\n",
    "\n",
    "def testdynamickwargs(**kwargs):\n",
    "    print(kwargs)\n",
    "    if(kwargs['fruit']== 'apple'):\n",
    "        print('I like {}'.format(kwargs['fruit']))\n",
    "    else:\n",
    "        pass\n",
    "    \n",
    "def testdynamic(*args,**kwargs):\n",
    "    print('I have {} {} in my basket'.format(args[0],kwargs['food']))\n"
   ]
  },
  {
   "cell_type": "code",
   "execution_count": 7,
   "metadata": {},
   "outputs": [
    {
     "name": "stdout",
     "output_type": "stream",
     "text": [
      "(10, 20, 30)\n",
      "60\n",
      "{'fruit': 'apple', 'food': 'beacon', 'play': 'cricket', 'animal': 'cat'}\n",
      "I like apple\n",
      "I have 20 beacon in my basket\n"
     ]
    }
   ],
   "source": [
    "testdynamicargs(10,20,30)\n",
    "testdynamickwargs(fruit='apple',food='beacon',play='cricket',animal='cat')\n",
    "testdynamic(20,fruit='apple',food='beacon',play='cricket')"
   ]
  },
  {
   "cell_type": "code",
   "execution_count": 60,
   "metadata": {},
   "outputs": [],
   "source": [
    "def myfunc(word):\n",
    "    result = \"\"\n",
    "    for i in range(0, len(word)):\n",
    "        if(i == 0):\n",
    "            result = result + word[i].lower()\n",
    "        elif(i%2==0):\n",
    "            result = result + word[i].upper()\n",
    "        else:\n",
    "            result = result + word[i].lower()\n",
    "    print(result)"
   ]
  },
  {
   "cell_type": "code",
   "execution_count": 61,
   "metadata": {},
   "outputs": [
    {
     "name": "stdout",
     "output_type": "stream",
     "text": [
      "anThRoPoMoRpHiSm\n"
     ]
    }
   ],
   "source": [
    "myfunc('Anthropomorphism')"
   ]
  },
  {
   "cell_type": "code",
   "execution_count": 72,
   "metadata": {},
   "outputs": [
    {
     "name": "stdout",
     "output_type": "stream",
     "text": [
      "['bro', 'here', 'am', 'I']\n"
     ]
    },
    {
     "data": {
      "text/plain": [
       "'bro here am I'"
      ]
     },
     "execution_count": 72,
     "metadata": {},
     "output_type": "execute_result"
    }
   ],
   "source": [
    "def reverseword(testword):\n",
    "    splitword = testword.split()\n",
    "    print(splitword[::-1])\n",
    "    result = \" \".join(splitword[::-1])\n",
    "    \n",
    "    return result\n",
    "reverseword(\"I am here bro\")"
   ]
  },
  {
   "cell_type": "code",
   "execution_count": 122,
   "metadata": {},
   "outputs": [],
   "source": [
    "def spy_game(numlist):\n",
    "    for i in range(0,len(numlist)):\n",
    "        #print(i)\n",
    "        if(numlist[i] == 0):\n",
    "            i +=1\n",
    "            #print(i)\n",
    "            if(numlist[i]==0):\n",
    "                i+=1\n",
    "                #print(i)\n",
    "                if(numlist[i]==7):\n",
    "                    return True"
   ]
  },
  {
   "cell_type": "code",
   "execution_count": 121,
   "metadata": {},
   "outputs": [
    {
     "data": {
      "text/plain": [
       "False"
      ]
     },
     "execution_count": 121,
     "metadata": {},
     "output_type": "execute_result"
    }
   ],
   "source": [
    "spy_game([1,2,4,0,0,6,5,0,0,7])"
   ]
  },
  {
   "cell_type": "code",
   "execution_count": 149,
   "metadata": {},
   "outputs": [
    {
     "name": "stdout",
     "output_type": "stream",
     "text": [
      "[1, 4, 9, 16, 25]\n",
      "[2, 4, 6]\n",
      "[1, 8, 27, 64, 125]\n",
      "9\n"
     ]
    }
   ],
   "source": [
    "# map - performs given function on given list \n",
    "def square(num):\n",
    "    return num**2\n",
    "\n",
    "print(list(map(square,[1,2,3,4,5])))\n",
    "\n",
    "# filter - filters the given list based on condition in function\n",
    "def filterfunc(num):\n",
    "    if(num%2==0):\n",
    "        return num\n",
    "    \n",
    "print(list(filter(filterfunc,[1,2,3,4,5,6])))\n",
    "\n",
    "# lambda expression - used to write a function in single line. Also called as anonymus fucntion\n",
    "squarelambda = lambda num : num **2\n",
    "squarelambda(6)  \n",
    "print(list(map(lambda num:num**3,[1,2,3,4,5])))\n",
    "result = lambda x,y:x+y\n",
    "print(result(5,4))"
   ]
  },
  {
   "cell_type": "code",
   "execution_count": 3,
   "metadata": {},
   "outputs": [],
   "source": [
    "# Classes\n",
    "class Person():\n",
    "    \n",
    "    #class object attribute which is same for all class instances. Ex : pi value of a cirle\n",
    "    species = 'mammal'\n",
    "    \n",
    "    def __init__(self,name,age):\n",
    "        self.name = name\n",
    "        self.age = age\n",
    "        \n",
    "    def functionalities(self):\n",
    "        list1 = ['speak','walk','run','cook']\n",
    "        return list1\n",
    "    "
   ]
  },
  {
   "cell_type": "code",
   "execution_count": 4,
   "metadata": {},
   "outputs": [
    {
     "name": "stdout",
     "output_type": "stream",
     "text": [
      "Name : Sandy\n",
      "Age : 22\n",
      "Species : mammal\n",
      "Functionalities : ['speak', 'walk', 'run', 'cook']\n"
     ]
    }
   ],
   "source": [
    "my_person = Person(name = 'Sandy',age=22)\n",
    "print(\"Name : {}\".format(my_person.name))\n",
    "print(\"Age : {}\".format(my_person.age))\n",
    "# class object attributes can be accessed either with class name or with self \n",
    "print(\"Species : {}\".format(Person.species))\n",
    "print(\"Functionalities : {}\".format(my_person.functionalities()))"
   ]
  },
  {
   "cell_type": "code",
   "execution_count": 12,
   "metadata": {},
   "outputs": [],
   "source": [
    "# Inheritance\n",
    "class Teacher(Person):\n",
    "    \n",
    "    def __init__(self,name,age,qualified):\n",
    "        Person.__init__(self,name,age)\n",
    "        self.qualified = qualified\n",
    "        print(\"child class attribute : {}\".format(self.qualified))\n",
    "        \n",
    "    def subfunctionality(self):\n",
    "        return \"can teach\"\n",
    "    \n",
    "    def getPlace(self):\n",
    "        return \"California\"\n",
    "        "
   ]
  },
  {
   "cell_type": "code",
   "execution_count": 13,
   "metadata": {},
   "outputs": [
    {
     "name": "stdout",
     "output_type": "stream",
     "text": [
      "child class attribute : True\n",
      "teacher functionality : hrushi kothi can teach\n",
      "person-teacher functionalities : ['speak', 'walk', 'run', 'cook']\n",
      "Working place : California\n"
     ]
    }
   ],
   "source": [
    "teacher = Teacher(name='hrushi kothi',age = 72,qualified=True)\n",
    "print(\"teacher functionality : {0} {1}\".format(teacher.name,teacher.subfunctionality()))\n",
    "print(\"person-teacher functionalities : {}\".format(teacher.functionalities()))\n",
    "print(\"Working place : {}\".format(teacher.getPlace()))"
   ]
  },
  {
   "cell_type": "code",
   "execution_count": 38,
   "metadata": {},
   "outputs": [
    {
     "name": "stdout",
     "output_type": "stream",
     "text": [
      "For loop : I am a dog! : pluto\n",
      "For loop : I am a cat! : tom\n",
      "I am a dog! : pluto\n",
      "I am a cat! : tom\n",
      "Expert in catching thevies!!!\n",
      "Expert in catching mice!!\n"
     ]
    }
   ],
   "source": [
    "# polymorphism examples\n",
    "class Animal():\n",
    "    def __init__(self,name):\n",
    "        self.name = name\n",
    "    def speak(self):\n",
    "        return(\"I am an animal : {}\".format(self.name))\n",
    "        \n",
    "    #abstract method\n",
    "    def speciality(self):\n",
    "        raise NotImplementedError(\"Child class should override this method!!\")\n",
    "\n",
    "class Dog(Animal):\n",
    "    \n",
    "    def __init__(self,name):\n",
    "        Animal.__init__(self,name)\n",
    "        \n",
    "    def speak(self):\n",
    "        return(\"I am a dog! : {}\".format(self.name))\n",
    "    \n",
    "    # method override\n",
    "    def speciality(self):\n",
    "        return \"Expert in catching thevies!!!\"\n",
    "        \n",
    "class Cat(Animal):\n",
    "     def __init__(self,name):\n",
    "        Animal.__init__(self,name)\n",
    "    \n",
    "     def speak(self):\n",
    "        return(\"I am a cat! : {}\".format(self.name))\n",
    "    #method override\n",
    "     def speciality(self):\n",
    "        return \"Expert in catching mice!!\"\n",
    "\n",
    "pluto = Dog(\"pluto\")\n",
    "tom = Cat(\"tom\")\n",
    "\n",
    "# 1) loop\n",
    "for pet in (pluto,tom):\n",
    "    print(\"For loop : {}\".format(pet.speak()))\n",
    "    \n",
    "#2) common function\n",
    "def commonfunc(pet):\n",
    "    pet.speak()\n",
    "\n",
    "print(pluto.speak())\n",
    "print(tom.speak())\n",
    "\n",
    "#3) abstract method\n",
    "print(pluto.speciality())\n",
    "print(tom.speciality())"
   ]
  },
  {
   "cell_type": "code",
   "execution_count": 44,
   "metadata": {},
   "outputs": [],
   "source": [
    "# special functions -  to have our own builtin functions for our own classes\n",
    "\n",
    "class Book():\n",
    "    def __init__(self,name,author,pages):\n",
    "        self.name = name\n",
    "        self.author = author\n",
    "        self.pages = pages\n",
    "    \n",
    "    def __str__(self):\n",
    "        return f\"{self.name} written by {self.author} contains {self.pages}\"\n",
    "    \n",
    "    def __len__(self):\n",
    "        return self.pages\n",
    "    \n",
    "    def __del__(self):\n",
    "        return(\"A book object has been deleted from memory\")"
   ]
  },
  {
   "cell_type": "code",
   "execution_count": 46,
   "metadata": {},
   "outputs": [
    {
     "name": "stdout",
     "output_type": "stream",
     "text": [
      "Fairy Tales written by Me contains 200\n"
     ]
    },
    {
     "data": {
      "text/plain": [
       "200"
      ]
     },
     "execution_count": 46,
     "metadata": {},
     "output_type": "execute_result"
    }
   ],
   "source": []
  },
  {
   "cell_type": "code",
   "execution_count": 50,
   "metadata": {},
   "outputs": [
    {
     "name": "stdout",
     "output_type": "stream",
     "text": [
      "Fairy Tales written by Me contains 200\n"
     ]
    },
    {
     "data": {
      "text/plain": [
       "200"
      ]
     },
     "execution_count": 50,
     "metadata": {},
     "output_type": "execute_result"
    }
   ],
   "source": [
    "b = Book('Fairy Tales','Me',200)\n",
    "print(b)\n",
    "len(b)"
   ]
  },
  {
   "cell_type": "code",
   "execution_count": 52,
   "metadata": {},
   "outputs": [
    {
     "ename": "NameError",
     "evalue": "name 'b' is not defined",
     "output_type": "error",
     "traceback": [
      "\u001b[1;31m---------------------------------------------------------------------------\u001b[0m",
      "\u001b[1;31mNameError\u001b[0m                                 Traceback (most recent call last)",
      "\u001b[1;32m<ipython-input-52-c74590171a89>\u001b[0m in \u001b[0;36m<module>\u001b[1;34m\u001b[0m\n\u001b[1;32m----> 1\u001b[1;33m \u001b[1;32mdel\u001b[0m \u001b[0mb\u001b[0m\u001b[1;33m\u001b[0m\u001b[1;33m\u001b[0m\u001b[0m\n\u001b[0m",
      "\u001b[1;31mNameError\u001b[0m: name 'b' is not defined"
     ]
    }
   ],
   "source": [
    "del b"
   ]
  },
  {
   "cell_type": "code",
   "execution_count": 49,
   "metadata": {},
   "outputs": [
    {
     "ename": "NameError",
     "evalue": "name 'b' is not defined",
     "output_type": "error",
     "traceback": [
      "\u001b[1;31m---------------------------------------------------------------------------\u001b[0m",
      "\u001b[1;31mNameError\u001b[0m                                 Traceback (most recent call last)",
      "\u001b[1;32m<ipython-input-49-67e500defa1b>\u001b[0m in \u001b[0;36m<module>\u001b[1;34m\u001b[0m\n\u001b[1;32m----> 1\u001b[1;33m \u001b[0mprint\u001b[0m\u001b[1;33m(\u001b[0m\u001b[0mb\u001b[0m\u001b[1;33m)\u001b[0m\u001b[1;33m\u001b[0m\u001b[1;33m\u001b[0m\u001b[0m\n\u001b[0m",
      "\u001b[1;31mNameError\u001b[0m: name 'b' is not defined"
     ]
    }
   ],
   "source": [
    "print(b)"
   ]
  },
  {
   "cell_type": "code",
   "execution_count": 54,
   "metadata": {},
   "outputs": [
    {
     "name": "stdout",
     "output_type": "stream",
     "text": [
      "Attempting to write a file in read mode is not accepted!!\n",
      "I always execute irrespective of exception!!\n"
     ]
    }
   ],
   "source": [
    "# exception handling\n",
    "try:\n",
    "    f = open('writefile.txt','r')\n",
    "    f.write('raising an exception here')\n",
    "except: \n",
    "    print('Attempting to write a file in read mode is not accepted!!')\n",
    "finally:\n",
    "    print('I always execute irrespective of exception!!')"
   ]
  },
  {
   "cell_type": "code",
   "execution_count": 62,
   "metadata": {},
   "outputs": [
    {
     "name": "stdout",
     "output_type": "stream",
     "text": [
      "just test this try block!!\n",
      "enter input : ghgk\n",
      "enter number to be divided9\n",
      "Divide by zero is illegal!!\n"
     ]
    }
   ],
   "source": [
    "try:\n",
    "    print('just test this try block!!')\n",
    "    n1 = \"hello\"\n",
    "    n2 = input('enter input : ')\n",
    "    numresult = n1 + n2\n",
    "    \n",
    "    n3 = input('enter number to be divided ')\n",
    "    res = int(n3)/0\n",
    "except ZeroDivisionError:\n",
    "    print('Divide by zero is illegal!!')\n",
    "except:\n",
    "    print('some exception is caught!!')\n",
    "else:\n",
    "    print('else block is executed if error didnt occur')"
   ]
  },
  {
   "cell_type": "code",
   "execution_count": 14,
   "metadata": {},
   "outputs": [
    {
     "data": {
      "text/plain": [
       "[0, 1, 8, 27, 64]"
      ]
     },
     "execution_count": 14,
     "metadata": {},
     "output_type": "execute_result"
    }
   ],
   "source": [
    "# Decorators\n",
    "# When in a function if we need extra functionality we can mark it as a decorator with '@any_name' syntax\n",
    "# These decorators are generally used with functions which takes another function as param and returns another function.\n",
    "\n",
    "\n",
    "# Generator\n",
    "# These will generate some result without actually storing in the memory. These are memory efficient when we actually dont want\n",
    "# to store them. This can be achieved with 'yield' keyword.\n",
    "def yield_demo(n):\n",
    "    for i in range(n):\n",
    "        yield i**3\n",
    "\n",
    "list(yield_demo(5))\n",
    "\n",
    "# Ex : range, next, iter\n",
    "# NOTE : strings cannot be iterated i.e, next(some_string) will not work. We have to make it as generator first. For this we can\n",
    "# use iter()"
   ]
  },
  {
   "cell_type": "code",
   "execution_count": 15,
   "metadata": {},
   "outputs": [
    {
     "data": {
      "text/plain": [
       "'h'"
      ]
     },
     "execution_count": 15,
     "metadata": {},
     "output_type": "execute_result"
    }
   ],
   "source": [
    "stringsome = 'hello'\n",
    "s_iter = iter(stringsome)\n",
    "next(s_iter)"
   ]
  },
  {
   "cell_type": "code",
   "execution_count": 21,
   "metadata": {},
   "outputs": [
    {
     "name": "stdout",
     "output_type": "stream",
     "text": [
      "Counter({3: 8, 1: 4, 2: 4})\n",
      "Counter({'l': 10, 'd': 4, 'o': 3, 'e': 2, 'h': 1, ' ': 1, 'w': 1, 'r': 1})\n",
      "[('l', 10), ('d', 4)]\n"
     ]
    }
   ],
   "source": [
    "# collections module\n",
    "# 1) Counter\n",
    "from collections import Counter\n",
    "my_list = [1,1,1,1,2,2,2,2,3,3,3,3,3,3,3,3]\n",
    "print(Counter(my_list))\n",
    "s = 'hellllloo woelrlllldddd'\n",
    "c = Counter(s)\n",
    "print(c)\n",
    "print(c.most_common(2))"
   ]
  },
  {
   "cell_type": "code",
   "execution_count": 22,
   "metadata": {},
   "outputs": [
    {
     "name": "stdout",
     "output_type": "stream",
     "text": [
      "cake\n",
      "default value\n"
     ]
    }
   ],
   "source": [
    "# 2) defaultdict\n",
    "# these are useful to assign a default value to a key which is not in the dictionary. Normal dictionaries would raise error if\n",
    "# a value is accessed for unknown key\n",
    "from collections import defaultdict\n",
    "d = defaultdict(lambda : 'default value')\n",
    "d['food'] = 'cake'\n",
    "print(d['food'])\n",
    "print(d['fruit'])"
   ]
  },
  {
   "cell_type": "code",
   "execution_count": 24,
   "metadata": {},
   "outputs": [
    {
     "name": "stdout",
     "output_type": "stream",
     "text": [
      "18\n",
      "sam\n"
     ]
    }
   ],
   "source": [
    "# 3) namedtuple\n",
    "# these are used when we don't actually know which value is at which index in a tuple\n",
    "from collections import namedtuple\n",
    "t = namedtuple('somename',['age','name','breed'])\n",
    "my_tup = t(age=18,name='sam',breed='husky')\n",
    "print(my_tup.age)\n",
    "print(my_tup[1])"
   ]
  },
  {
   "cell_type": "code",
   "execution_count": 6,
   "metadata": {},
   "outputs": [
    {
     "name": "stdout",
     "output_type": "stream",
     "text": [
      "[['name', 'age', 'language'], ['cassie', '24', 'french'], ['johny', '23', 'eng'], ['damon', '32', 'spanish']]\n"
     ]
    }
   ],
   "source": [
    "# CSV files\n",
    "import csv\n",
    "open_csv = open('sample.csv',encoding='utf-8')\n",
    "data = csv.reader(open_csv)\n",
    "list_data = list(data)\n",
    "print(list_data)"
   ]
  },
  {
   "cell_type": "code",
   "execution_count": 32,
   "metadata": {},
   "outputs": [
    {
     "name": "stdout",
     "output_type": "stream",
     "text": [
      "['3', \"'damon'\", '32', \"'spanish'\"]\n",
      "[\"'french'\", \"'eng'\", \"'spanish'\"]\n"
     ]
    }
   ],
   "source": [
    "# get list of all laguages from csv file\n",
    "print(list_data[3])\n",
    "languages = []\n",
    "for line in list_data[1:]:\n",
    "    languages.append(line[3])\n",
    "    \n",
    "print(languages)"
   ]
  },
  {
   "cell_type": "code",
   "execution_count": 33,
   "metadata": {},
   "outputs": [],
   "source": [
    "# write to a csv file\n",
    "write_file = open('writefile.csv',mode='w',newline='')\n",
    "csv_data_write = csv.writer(write_file,delimiter=',')\n",
    "# write a single row\n",
    "csv_data_write.writerow(['id','city','temperature'])\n",
    "# write multiple rows\n",
    "csv_data_write.writerows([[1,'san jose',58.4],[2,'san mateos',57.2],[3,'milpitas',48.9]])"
   ]
  },
  {
   "cell_type": "code",
   "execution_count": 35,
   "metadata": {},
   "outputs": [],
   "source": [
    "open_csv.close()"
   ]
  },
  {
   "cell_type": "code",
   "execution_count": 38,
   "metadata": {},
   "outputs": [
    {
     "name": "stdout",
     "output_type": "stream",
     "text": [
      "['id,name,age,language\\n', \"1,'cassie',24,'french'\\n\", \"2,'johny',23,'eng'\\n\", \"3,'damon',32,'spanish'\"]\n"
     ]
    }
   ],
   "source": [
    "with open('sample.csv') as f:\n",
    "    print(f.readlines())"
   ]
  },
  {
   "cell_type": "code",
   "execution_count": 1,
   "metadata": {},
   "outputs": [
    {
     "data": {
      "text/html": [
       "<div>\n",
       "<style scoped>\n",
       "    .dataframe tbody tr th:only-of-type {\n",
       "        vertical-align: middle;\n",
       "    }\n",
       "\n",
       "    .dataframe tbody tr th {\n",
       "        vertical-align: top;\n",
       "    }\n",
       "\n",
       "    .dataframe thead th {\n",
       "        text-align: right;\n",
       "    }\n",
       "</style>\n",
       "<table border=\"1\" class=\"dataframe\">\n",
       "  <thead>\n",
       "    <tr style=\"text-align: right;\">\n",
       "      <th></th>\n",
       "      <th>name</th>\n",
       "      <th>marks</th>\n",
       "    </tr>\n",
       "  </thead>\n",
       "  <tbody>\n",
       "    <tr>\n",
       "      <th>0</th>\n",
       "      <td>hary</td>\n",
       "      <td>78</td>\n",
       "    </tr>\n",
       "    <tr>\n",
       "      <th>1</th>\n",
       "      <td>jane</td>\n",
       "      <td>93</td>\n",
       "    </tr>\n",
       "    <tr>\n",
       "      <th>2</th>\n",
       "      <td>shane</td>\n",
       "      <td>67</td>\n",
       "    </tr>\n",
       "  </tbody>\n",
       "</table>\n",
       "</div>"
      ],
      "text/plain": [
       "    name  marks\n",
       "0   hary     78\n",
       "1   jane     93\n",
       "2  shane     67"
      ]
     },
     "execution_count": 1,
     "metadata": {},
     "output_type": "execute_result"
    }
   ],
   "source": [
    "# pandas library is used to work with datasets\n",
    "# functionalities - used to analyze, clean, explore and manipulate data\n",
    "import pandas as pd\n",
    "my_dataset = {\n",
    "    'name' : ['hary','jane','shane'],\n",
    "    'marks' : [78,93,67]\n",
    "}\n",
    "# DataFrame is a 2d data structure (generally seems like table) where as series is a single dimensional array \n",
    "result = pd.DataFrame(my_dataset)\n",
    "result"
   ]
  },
  {
   "cell_type": "code",
   "execution_count": 54,
   "metadata": {},
   "outputs": [
    {
     "name": "stdout",
     "output_type": "stream",
     "text": [
      "name     hary\n",
      "marks      78\n",
      "Name: 0, dtype: object\n",
      "   name  marks\n",
      "0  hary     78\n",
      "1  jane     93\n"
     ]
    }
   ],
   "source": [
    "# pandas use the loc attribute to return one or more specified row(s)\n",
    "\n",
    "# this return panda series\n",
    "print(result.loc[0])\n",
    "\n",
    "# this returns panda dataframe\n",
    "print(result.loc[[0,1]])\n",
    "\n",
    "# Note : we can also create and access labels for dataframe just like series using 'index' "
   ]
  },
  {
   "cell_type": "code",
   "execution_count": 2,
   "metadata": {},
   "outputs": [
    {
     "data": {
      "text/html": [
       "<div>\n",
       "<style scoped>\n",
       "    .dataframe tbody tr th:only-of-type {\n",
       "        vertical-align: middle;\n",
       "    }\n",
       "\n",
       "    .dataframe tbody tr th {\n",
       "        vertical-align: top;\n",
       "    }\n",
       "\n",
       "    .dataframe thead th {\n",
       "        text-align: right;\n",
       "    }\n",
       "</style>\n",
       "<table border=\"1\" class=\"dataframe\">\n",
       "  <thead>\n",
       "    <tr style=\"text-align: right;\">\n",
       "      <th></th>\n",
       "      <th>location</th>\n",
       "      <th>date</th>\n",
       "      <th>vaccine</th>\n",
       "      <th>source_url</th>\n",
       "      <th>total_vaccinations</th>\n",
       "      <th>people_vaccinated</th>\n",
       "      <th>people_fully_vaccinated</th>\n",
       "    </tr>\n",
       "  </thead>\n",
       "  <tbody>\n",
       "    <tr>\n",
       "      <th>0</th>\n",
       "      <td>United States</td>\n",
       "      <td>2020-12-20</td>\n",
       "      <td>Pfizer/BioNTech</td>\n",
       "      <td>https://www.cdc.gov/coronavirus/2019-ncov/vacc...</td>\n",
       "      <td>556208</td>\n",
       "      <td>556208.0</td>\n",
       "      <td>NaN</td>\n",
       "    </tr>\n",
       "    <tr>\n",
       "      <th>1</th>\n",
       "      <td>United States</td>\n",
       "      <td>2020-12-21</td>\n",
       "      <td>Pfizer/BioNTech</td>\n",
       "      <td>https://covid.cdc.gov/covid-data-tracker/#vacc...</td>\n",
       "      <td>614117</td>\n",
       "      <td>614117.0</td>\n",
       "      <td>NaN</td>\n",
       "    </tr>\n",
       "    <tr>\n",
       "      <th>2</th>\n",
       "      <td>United States</td>\n",
       "      <td>2020-12-23</td>\n",
       "      <td>Moderna, Pfizer/BioNTech</td>\n",
       "      <td>https://covid.cdc.gov/covid-data-tracker/#vacc...</td>\n",
       "      <td>1008025</td>\n",
       "      <td>1008025.0</td>\n",
       "      <td>NaN</td>\n",
       "    </tr>\n",
       "    <tr>\n",
       "      <th>3</th>\n",
       "      <td>United States</td>\n",
       "      <td>2020-12-26</td>\n",
       "      <td>Moderna, Pfizer/BioNTech</td>\n",
       "      <td>https://covid.cdc.gov/covid-data-tracker/#vacc...</td>\n",
       "      <td>1944585</td>\n",
       "      <td>1944585.0</td>\n",
       "      <td>NaN</td>\n",
       "    </tr>\n",
       "    <tr>\n",
       "      <th>4</th>\n",
       "      <td>United States</td>\n",
       "      <td>2020-12-28</td>\n",
       "      <td>Moderna, Pfizer/BioNTech</td>\n",
       "      <td>https://covid.cdc.gov/covid-data-tracker/#vacc...</td>\n",
       "      <td>2127143</td>\n",
       "      <td>2127143.0</td>\n",
       "      <td>NaN</td>\n",
       "    </tr>\n",
       "    <tr>\n",
       "      <th>5</th>\n",
       "      <td>United States</td>\n",
       "      <td>2020-12-30</td>\n",
       "      <td>Moderna, Pfizer/BioNTech</td>\n",
       "      <td>https://covid.cdc.gov/covid-data-tracker/#vacc...</td>\n",
       "      <td>2794588</td>\n",
       "      <td>2794588.0</td>\n",
       "      <td>NaN</td>\n",
       "    </tr>\n",
       "    <tr>\n",
       "      <th>6</th>\n",
       "      <td>United States</td>\n",
       "      <td>2021-01-02</td>\n",
       "      <td>Moderna, Pfizer/BioNTech</td>\n",
       "      <td>https://covid.cdc.gov/covid-data-tracker/#vacc...</td>\n",
       "      <td>4225756</td>\n",
       "      <td>4225756.0</td>\n",
       "      <td>NaN</td>\n",
       "    </tr>\n",
       "    <tr>\n",
       "      <th>7</th>\n",
       "      <td>United States</td>\n",
       "      <td>2021-01-04</td>\n",
       "      <td>Moderna, Pfizer/BioNTech</td>\n",
       "      <td>https://covid.cdc.gov/covid-data-tracker/#vacc...</td>\n",
       "      <td>4563260</td>\n",
       "      <td>4563260.0</td>\n",
       "      <td>NaN</td>\n",
       "    </tr>\n",
       "    <tr>\n",
       "      <th>8</th>\n",
       "      <td>United States</td>\n",
       "      <td>2021-01-05</td>\n",
       "      <td>Moderna, Pfizer/BioNTech</td>\n",
       "      <td>https://covid.cdc.gov/covid-data-tracker/#vacc...</td>\n",
       "      <td>4836469</td>\n",
       "      <td>4836469.0</td>\n",
       "      <td>NaN</td>\n",
       "    </tr>\n",
       "    <tr>\n",
       "      <th>9</th>\n",
       "      <td>United States</td>\n",
       "      <td>2021-01-06</td>\n",
       "      <td>Moderna, Pfizer/BioNTech</td>\n",
       "      <td>https://covid.cdc.gov/covid-data-tracker/#vacc...</td>\n",
       "      <td>5306797</td>\n",
       "      <td>5306797.0</td>\n",
       "      <td>NaN</td>\n",
       "    </tr>\n",
       "    <tr>\n",
       "      <th>10</th>\n",
       "      <td>United States</td>\n",
       "      <td>2021-01-07</td>\n",
       "      <td>Moderna, Pfizer/BioNTech</td>\n",
       "      <td>https://covid.cdc.gov/covid-data-tracker/#vacc...</td>\n",
       "      <td>5919418</td>\n",
       "      <td>5919418.0</td>\n",
       "      <td>NaN</td>\n",
       "    </tr>\n",
       "    <tr>\n",
       "      <th>11</th>\n",
       "      <td>United States</td>\n",
       "      <td>2021-01-08</td>\n",
       "      <td>Moderna, Pfizer/BioNTech</td>\n",
       "      <td>https://covid.cdc.gov/covid-data-tracker/#vacc...</td>\n",
       "      <td>6688231</td>\n",
       "      <td>6688231.0</td>\n",
       "      <td>NaN</td>\n",
       "    </tr>\n",
       "    <tr>\n",
       "      <th>12</th>\n",
       "      <td>United States</td>\n",
       "      <td>2021-01-11</td>\n",
       "      <td>Moderna, Pfizer/BioNTech</td>\n",
       "      <td>https://covid.cdc.gov/covid-data-tracker/#vacc...</td>\n",
       "      <td>8987322</td>\n",
       "      <td>8987322.0</td>\n",
       "      <td>NaN</td>\n",
       "    </tr>\n",
       "    <tr>\n",
       "      <th>13</th>\n",
       "      <td>United States</td>\n",
       "      <td>2021-01-12</td>\n",
       "      <td>Moderna, Pfizer/BioNTech</td>\n",
       "      <td>https://covid.cdc.gov/covid-data-tracker/#vacc...</td>\n",
       "      <td>9327138</td>\n",
       "      <td>9327138.0</td>\n",
       "      <td>NaN</td>\n",
       "    </tr>\n",
       "    <tr>\n",
       "      <th>14</th>\n",
       "      <td>United States</td>\n",
       "      <td>2021-01-13</td>\n",
       "      <td>Moderna, Pfizer/BioNTech</td>\n",
       "      <td>https://covid.cdc.gov/covid-data-tracker/#vacc...</td>\n",
       "      <td>10278462</td>\n",
       "      <td>NaN</td>\n",
       "      <td>NaN</td>\n",
       "    </tr>\n",
       "    <tr>\n",
       "      <th>15</th>\n",
       "      <td>United States</td>\n",
       "      <td>2021-01-14</td>\n",
       "      <td>Moderna, Pfizer/BioNTech</td>\n",
       "      <td>https://covid.cdc.gov/covid-data-tracker/#vacc...</td>\n",
       "      <td>11148991</td>\n",
       "      <td>9690757.0</td>\n",
       "      <td>1342086.0</td>\n",
       "    </tr>\n",
       "    <tr>\n",
       "      <th>16</th>\n",
       "      <td>United States</td>\n",
       "      <td>2021-01-15</td>\n",
       "      <td>Moderna, Pfizer/BioNTech</td>\n",
       "      <td>https://covid.cdc.gov/covid-data-tracker/#vacc...</td>\n",
       "      <td>12279180</td>\n",
       "      <td>10595866.0</td>\n",
       "      <td>1610524.0</td>\n",
       "    </tr>\n",
       "    <tr>\n",
       "      <th>17</th>\n",
       "      <td>United States</td>\n",
       "      <td>2021-01-19</td>\n",
       "      <td>Moderna, Pfizer/BioNTech</td>\n",
       "      <td>https://covid.cdc.gov/covid-data-tracker/#vacc...</td>\n",
       "      <td>15707588</td>\n",
       "      <td>13595803.0</td>\n",
       "      <td>2023124.0</td>\n",
       "    </tr>\n",
       "    <tr>\n",
       "      <th>18</th>\n",
       "      <td>United States</td>\n",
       "      <td>2021-01-20</td>\n",
       "      <td>Moderna, Pfizer/BioNTech</td>\n",
       "      <td>https://covid.cdc.gov/covid-data-tracker/#vacc...</td>\n",
       "      <td>16525281</td>\n",
       "      <td>14270441.0</td>\n",
       "      <td>2161419.0</td>\n",
       "    </tr>\n",
       "    <tr>\n",
       "      <th>19</th>\n",
       "      <td>United States</td>\n",
       "      <td>2021-01-21</td>\n",
       "      <td>Moderna, Pfizer/BioNTech</td>\n",
       "      <td>https://covid.cdc.gov/covid-data-tracker/#vacc...</td>\n",
       "      <td>17546374</td>\n",
       "      <td>15053257.0</td>\n",
       "      <td>2394961.0</td>\n",
       "    </tr>\n",
       "    <tr>\n",
       "      <th>20</th>\n",
       "      <td>United States</td>\n",
       "      <td>2021-01-22</td>\n",
       "      <td>Moderna, Pfizer/BioNTech</td>\n",
       "      <td>https://covid.cdc.gov/covid-data-tracker/#vacc...</td>\n",
       "      <td>19107959</td>\n",
       "      <td>16243093.0</td>\n",
       "      <td>2756953.0</td>\n",
       "    </tr>\n",
       "    <tr>\n",
       "      <th>21</th>\n",
       "      <td>United States</td>\n",
       "      <td>2021-01-23</td>\n",
       "      <td>Moderna, Pfizer/BioNTech</td>\n",
       "      <td>https://covid.cdc.gov/covid-data-tracker/#vacc...</td>\n",
       "      <td>20537990</td>\n",
       "      <td>17390345.0</td>\n",
       "      <td>3027865.0</td>\n",
       "    </tr>\n",
       "    <tr>\n",
       "      <th>22</th>\n",
       "      <td>United States</td>\n",
       "      <td>2021-01-24</td>\n",
       "      <td>Moderna, Pfizer/BioNTech</td>\n",
       "      <td>https://covid.cdc.gov/covid-data-tracker/#vacc...</td>\n",
       "      <td>21848655</td>\n",
       "      <td>18502131.0</td>\n",
       "      <td>3216836.0</td>\n",
       "    </tr>\n",
       "    <tr>\n",
       "      <th>23</th>\n",
       "      <td>United States</td>\n",
       "      <td>2021-01-25</td>\n",
       "      <td>Moderna, Pfizer/BioNTech</td>\n",
       "      <td>https://covid.cdc.gov/covid-data-tracker/#vacc...</td>\n",
       "      <td>22734243</td>\n",
       "      <td>19252279.0</td>\n",
       "      <td>3346390.0</td>\n",
       "    </tr>\n",
       "    <tr>\n",
       "      <th>24</th>\n",
       "      <td>United States</td>\n",
       "      <td>2021-01-26</td>\n",
       "      <td>Moderna, Pfizer/BioNTech</td>\n",
       "      <td>https://covid.cdc.gov/covid-data-tracker/#vacc...</td>\n",
       "      <td>23540994</td>\n",
       "      <td>19902237.0</td>\n",
       "      <td>3481921.0</td>\n",
       "    </tr>\n",
       "    <tr>\n",
       "      <th>25</th>\n",
       "      <td>United States</td>\n",
       "      <td>2021-01-27</td>\n",
       "      <td>Moderna, Pfizer/BioNTech</td>\n",
       "      <td>https://covid.cdc.gov/covid-data-tracker/#vacc...</td>\n",
       "      <td>24652634</td>\n",
       "      <td>20687970.0</td>\n",
       "      <td>3801053.0</td>\n",
       "    </tr>\n",
       "    <tr>\n",
       "      <th>26</th>\n",
       "      <td>United States</td>\n",
       "      <td>2021-01-28</td>\n",
       "      <td>Moderna, Pfizer/BioNTech</td>\n",
       "      <td>https://covid.cdc.gov/covid-data-tracker/#vacc...</td>\n",
       "      <td>26193682</td>\n",
       "      <td>21698606.0</td>\n",
       "      <td>4263056.0</td>\n",
       "    </tr>\n",
       "    <tr>\n",
       "      <th>27</th>\n",
       "      <td>United States</td>\n",
       "      <td>2021-01-29</td>\n",
       "      <td>Moderna, Pfizer/BioNTech</td>\n",
       "      <td>https://covid.cdc.gov/covid-data-tracker/#vacc...</td>\n",
       "      <td>27884661</td>\n",
       "      <td>22858318.0</td>\n",
       "      <td>4780888.0</td>\n",
       "    </tr>\n",
       "    <tr>\n",
       "      <th>28</th>\n",
       "      <td>United States</td>\n",
       "      <td>2021-01-30</td>\n",
       "      <td>Moderna, Pfizer/BioNTech</td>\n",
       "      <td>https://covid.cdc.gov/covid-data-tracker/#vacc...</td>\n",
       "      <td>29577902</td>\n",
       "      <td>24064165.0</td>\n",
       "      <td>5259693.0</td>\n",
       "    </tr>\n",
       "    <tr>\n",
       "      <th>29</th>\n",
       "      <td>United States</td>\n",
       "      <td>2021-01-31</td>\n",
       "      <td>Moderna, Pfizer/BioNTech</td>\n",
       "      <td>https://covid.cdc.gov/covid-data-tracker/#vacc...</td>\n",
       "      <td>31123299</td>\n",
       "      <td>25201143.0</td>\n",
       "      <td>5657142.0</td>\n",
       "    </tr>\n",
       "  </tbody>\n",
       "</table>\n",
       "</div>"
      ],
      "text/plain": [
       "         location        date                   vaccine  \\\n",
       "0   United States  2020-12-20           Pfizer/BioNTech   \n",
       "1   United States  2020-12-21           Pfizer/BioNTech   \n",
       "2   United States  2020-12-23  Moderna, Pfizer/BioNTech   \n",
       "3   United States  2020-12-26  Moderna, Pfizer/BioNTech   \n",
       "4   United States  2020-12-28  Moderna, Pfizer/BioNTech   \n",
       "5   United States  2020-12-30  Moderna, Pfizer/BioNTech   \n",
       "6   United States  2021-01-02  Moderna, Pfizer/BioNTech   \n",
       "7   United States  2021-01-04  Moderna, Pfizer/BioNTech   \n",
       "8   United States  2021-01-05  Moderna, Pfizer/BioNTech   \n",
       "9   United States  2021-01-06  Moderna, Pfizer/BioNTech   \n",
       "10  United States  2021-01-07  Moderna, Pfizer/BioNTech   \n",
       "11  United States  2021-01-08  Moderna, Pfizer/BioNTech   \n",
       "12  United States  2021-01-11  Moderna, Pfizer/BioNTech   \n",
       "13  United States  2021-01-12  Moderna, Pfizer/BioNTech   \n",
       "14  United States  2021-01-13  Moderna, Pfizer/BioNTech   \n",
       "15  United States  2021-01-14  Moderna, Pfizer/BioNTech   \n",
       "16  United States  2021-01-15  Moderna, Pfizer/BioNTech   \n",
       "17  United States  2021-01-19  Moderna, Pfizer/BioNTech   \n",
       "18  United States  2021-01-20  Moderna, Pfizer/BioNTech   \n",
       "19  United States  2021-01-21  Moderna, Pfizer/BioNTech   \n",
       "20  United States  2021-01-22  Moderna, Pfizer/BioNTech   \n",
       "21  United States  2021-01-23  Moderna, Pfizer/BioNTech   \n",
       "22  United States  2021-01-24  Moderna, Pfizer/BioNTech   \n",
       "23  United States  2021-01-25  Moderna, Pfizer/BioNTech   \n",
       "24  United States  2021-01-26  Moderna, Pfizer/BioNTech   \n",
       "25  United States  2021-01-27  Moderna, Pfizer/BioNTech   \n",
       "26  United States  2021-01-28  Moderna, Pfizer/BioNTech   \n",
       "27  United States  2021-01-29  Moderna, Pfizer/BioNTech   \n",
       "28  United States  2021-01-30  Moderna, Pfizer/BioNTech   \n",
       "29  United States  2021-01-31  Moderna, Pfizer/BioNTech   \n",
       "\n",
       "                                           source_url  total_vaccinations  \\\n",
       "0   https://www.cdc.gov/coronavirus/2019-ncov/vacc...              556208   \n",
       "1   https://covid.cdc.gov/covid-data-tracker/#vacc...              614117   \n",
       "2   https://covid.cdc.gov/covid-data-tracker/#vacc...             1008025   \n",
       "3   https://covid.cdc.gov/covid-data-tracker/#vacc...             1944585   \n",
       "4   https://covid.cdc.gov/covid-data-tracker/#vacc...             2127143   \n",
       "5   https://covid.cdc.gov/covid-data-tracker/#vacc...             2794588   \n",
       "6   https://covid.cdc.gov/covid-data-tracker/#vacc...             4225756   \n",
       "7   https://covid.cdc.gov/covid-data-tracker/#vacc...             4563260   \n",
       "8   https://covid.cdc.gov/covid-data-tracker/#vacc...             4836469   \n",
       "9   https://covid.cdc.gov/covid-data-tracker/#vacc...             5306797   \n",
       "10  https://covid.cdc.gov/covid-data-tracker/#vacc...             5919418   \n",
       "11  https://covid.cdc.gov/covid-data-tracker/#vacc...             6688231   \n",
       "12  https://covid.cdc.gov/covid-data-tracker/#vacc...             8987322   \n",
       "13  https://covid.cdc.gov/covid-data-tracker/#vacc...             9327138   \n",
       "14  https://covid.cdc.gov/covid-data-tracker/#vacc...            10278462   \n",
       "15  https://covid.cdc.gov/covid-data-tracker/#vacc...            11148991   \n",
       "16  https://covid.cdc.gov/covid-data-tracker/#vacc...            12279180   \n",
       "17  https://covid.cdc.gov/covid-data-tracker/#vacc...            15707588   \n",
       "18  https://covid.cdc.gov/covid-data-tracker/#vacc...            16525281   \n",
       "19  https://covid.cdc.gov/covid-data-tracker/#vacc...            17546374   \n",
       "20  https://covid.cdc.gov/covid-data-tracker/#vacc...            19107959   \n",
       "21  https://covid.cdc.gov/covid-data-tracker/#vacc...            20537990   \n",
       "22  https://covid.cdc.gov/covid-data-tracker/#vacc...            21848655   \n",
       "23  https://covid.cdc.gov/covid-data-tracker/#vacc...            22734243   \n",
       "24  https://covid.cdc.gov/covid-data-tracker/#vacc...            23540994   \n",
       "25  https://covid.cdc.gov/covid-data-tracker/#vacc...            24652634   \n",
       "26  https://covid.cdc.gov/covid-data-tracker/#vacc...            26193682   \n",
       "27  https://covid.cdc.gov/covid-data-tracker/#vacc...            27884661   \n",
       "28  https://covid.cdc.gov/covid-data-tracker/#vacc...            29577902   \n",
       "29  https://covid.cdc.gov/covid-data-tracker/#vacc...            31123299   \n",
       "\n",
       "    people_vaccinated  people_fully_vaccinated  \n",
       "0            556208.0                      NaN  \n",
       "1            614117.0                      NaN  \n",
       "2           1008025.0                      NaN  \n",
       "3           1944585.0                      NaN  \n",
       "4           2127143.0                      NaN  \n",
       "5           2794588.0                      NaN  \n",
       "6           4225756.0                      NaN  \n",
       "7           4563260.0                      NaN  \n",
       "8           4836469.0                      NaN  \n",
       "9           5306797.0                      NaN  \n",
       "10          5919418.0                      NaN  \n",
       "11          6688231.0                      NaN  \n",
       "12          8987322.0                      NaN  \n",
       "13          9327138.0                      NaN  \n",
       "14                NaN                      NaN  \n",
       "15          9690757.0                1342086.0  \n",
       "16         10595866.0                1610524.0  \n",
       "17         13595803.0                2023124.0  \n",
       "18         14270441.0                2161419.0  \n",
       "19         15053257.0                2394961.0  \n",
       "20         16243093.0                2756953.0  \n",
       "21         17390345.0                3027865.0  \n",
       "22         18502131.0                3216836.0  \n",
       "23         19252279.0                3346390.0  \n",
       "24         19902237.0                3481921.0  \n",
       "25         20687970.0                3801053.0  \n",
       "26         21698606.0                4263056.0  \n",
       "27         22858318.0                4780888.0  \n",
       "28         24064165.0                5259693.0  \n",
       "29         25201143.0                5657142.0  "
      ]
     },
     "execution_count": 2,
     "metadata": {},
     "output_type": "execute_result"
    }
   ],
   "source": [
    "# loading data from csv file \n",
    "csv_data = pd.read_csv('https://raw.githubusercontent.com/owid/covid-19-data/master/public/data/vaccinations/country_data/United%20States.csv')\n",
    "# prints only first 5 rows\n",
    "# csv_data\n",
    "# to print all dataframe rows use\n",
    "#print(csv_data.to_string())\n",
    "# #load to a dataframe\n",
    "csv_df = pd.DataFrame(csv_data)\n",
    "csv_df"
   ]
  },
  {
   "cell_type": "code",
   "execution_count": 75,
   "metadata": {},
   "outputs": [
    {
     "name": "stdout",
     "output_type": "stream",
     "text": [
      "   cell_type metadata                                                                           source  execution_count outputs\n",
      "0   markdown       {}                   [## Boston Dataset \\n, ### Load the dataset from a local file]              NaN     NaN\n",
      "1       code       {}                                                            [import pandas as pd]              NaN      []\n",
      "2       code       {}  [boston = pd.read_csv('crimes-in-boston/crime.csv', encoding='unicode_escape')]              NaN      []\n",
      "3   markdown       {}                                                      [### View some of the rows]              NaN     NaN\n",
      "4       code       {}                                                                  [boston.head()]              NaN      []\n",
      "5       code       {}                                                                  [boston.tail()]              NaN      []\n",
      "6   markdown       {}                                                        [## Simple data analysis]              NaN     NaN\n",
      "7       code       {}                                                              [boston.describe()]              NaN      []\n",
      "8       code       {}                                    [(boston.DAY_OF_WEEK == 'Sunday').describe()]              NaN      []\n",
      "9   markdown       {}                                                              [## Histogram\\n,  ]              NaN     NaN\n",
      "10      code       {}                                                             [%matplotlib inline]              NaN      []\n",
      "11      code       {}                                                [histogram = boston.hist('HOUR')]              NaN      []\n",
      "12      code       {}                                               [histogram = boston.hist('MONTH')]              NaN      []\n",
      "13      code       {}                                                                               []              NaN      []\n"
     ]
    }
   ],
   "source": [
    "# read json data and load into dataframe\n",
    "import json \n",
    "data = json.load(open('BostonCrimeCSV.json'))\n",
    "json_data_frame = pd.DataFrame(data[\"cells\"])\n",
    "print(json_data_frame.to_string())"
   ]
  },
  {
   "cell_type": "code",
   "execution_count": 76,
   "metadata": {},
   "outputs": [
    {
     "data": {
      "text/html": [
       "<div>\n",
       "<style scoped>\n",
       "    .dataframe tbody tr th:only-of-type {\n",
       "        vertical-align: middle;\n",
       "    }\n",
       "\n",
       "    .dataframe tbody tr th {\n",
       "        vertical-align: top;\n",
       "    }\n",
       "\n",
       "    .dataframe thead th {\n",
       "        text-align: right;\n",
       "    }\n",
       "</style>\n",
       "<table border=\"1\" class=\"dataframe\">\n",
       "  <thead>\n",
       "    <tr style=\"text-align: right;\">\n",
       "      <th></th>\n",
       "      <th>cell_type</th>\n",
       "      <th>metadata</th>\n",
       "      <th>source</th>\n",
       "      <th>execution_count</th>\n",
       "      <th>outputs</th>\n",
       "    </tr>\n",
       "  </thead>\n",
       "  <tbody>\n",
       "    <tr>\n",
       "      <th>0</th>\n",
       "      <td>markdown</td>\n",
       "      <td>{}</td>\n",
       "      <td>[## Boston Dataset \\n, ### Load the dataset fr...</td>\n",
       "      <td>NaN</td>\n",
       "      <td>NaN</td>\n",
       "    </tr>\n",
       "    <tr>\n",
       "      <th>1</th>\n",
       "      <td>code</td>\n",
       "      <td>{}</td>\n",
       "      <td>[import pandas as pd]</td>\n",
       "      <td>NaN</td>\n",
       "      <td>[]</td>\n",
       "    </tr>\n",
       "    <tr>\n",
       "      <th>2</th>\n",
       "      <td>code</td>\n",
       "      <td>{}</td>\n",
       "      <td>[boston = pd.read_csv('crimes-in-boston/crime....</td>\n",
       "      <td>NaN</td>\n",
       "      <td>[]</td>\n",
       "    </tr>\n",
       "    <tr>\n",
       "      <th>3</th>\n",
       "      <td>markdown</td>\n",
       "      <td>{}</td>\n",
       "      <td>[### View some of the rows]</td>\n",
       "      <td>NaN</td>\n",
       "      <td>NaN</td>\n",
       "    </tr>\n",
       "    <tr>\n",
       "      <th>4</th>\n",
       "      <td>code</td>\n",
       "      <td>{}</td>\n",
       "      <td>[boston.head()]</td>\n",
       "      <td>NaN</td>\n",
       "      <td>[]</td>\n",
       "    </tr>\n",
       "    <tr>\n",
       "      <th>5</th>\n",
       "      <td>code</td>\n",
       "      <td>{}</td>\n",
       "      <td>[boston.tail()]</td>\n",
       "      <td>NaN</td>\n",
       "      <td>[]</td>\n",
       "    </tr>\n",
       "    <tr>\n",
       "      <th>6</th>\n",
       "      <td>markdown</td>\n",
       "      <td>{}</td>\n",
       "      <td>[## Simple data analysis]</td>\n",
       "      <td>NaN</td>\n",
       "      <td>NaN</td>\n",
       "    </tr>\n",
       "    <tr>\n",
       "      <th>7</th>\n",
       "      <td>code</td>\n",
       "      <td>{}</td>\n",
       "      <td>[boston.describe()]</td>\n",
       "      <td>NaN</td>\n",
       "      <td>[]</td>\n",
       "    </tr>\n",
       "    <tr>\n",
       "      <th>8</th>\n",
       "      <td>code</td>\n",
       "      <td>{}</td>\n",
       "      <td>[(boston.DAY_OF_WEEK == 'Sunday').describe()]</td>\n",
       "      <td>NaN</td>\n",
       "      <td>[]</td>\n",
       "    </tr>\n",
       "    <tr>\n",
       "      <th>9</th>\n",
       "      <td>markdown</td>\n",
       "      <td>{}</td>\n",
       "      <td>[## Histogram\\n,  ]</td>\n",
       "      <td>NaN</td>\n",
       "      <td>NaN</td>\n",
       "    </tr>\n",
       "    <tr>\n",
       "      <th>10</th>\n",
       "      <td>code</td>\n",
       "      <td>{}</td>\n",
       "      <td>[%matplotlib inline]</td>\n",
       "      <td>NaN</td>\n",
       "      <td>[]</td>\n",
       "    </tr>\n",
       "    <tr>\n",
       "      <th>11</th>\n",
       "      <td>code</td>\n",
       "      <td>{}</td>\n",
       "      <td>[histogram = boston.hist('HOUR')]</td>\n",
       "      <td>NaN</td>\n",
       "      <td>[]</td>\n",
       "    </tr>\n",
       "    <tr>\n",
       "      <th>12</th>\n",
       "      <td>code</td>\n",
       "      <td>{}</td>\n",
       "      <td>[histogram = boston.hist('MONTH')]</td>\n",
       "      <td>NaN</td>\n",
       "      <td>[]</td>\n",
       "    </tr>\n",
       "    <tr>\n",
       "      <th>13</th>\n",
       "      <td>code</td>\n",
       "      <td>{}</td>\n",
       "      <td>[]</td>\n",
       "      <td>NaN</td>\n",
       "      <td>[]</td>\n",
       "    </tr>\n",
       "  </tbody>\n",
       "</table>\n",
       "</div>"
      ],
      "text/plain": [
       "   cell_type metadata                                             source  \\\n",
       "0   markdown       {}  [## Boston Dataset \\n, ### Load the dataset fr...   \n",
       "1       code       {}                              [import pandas as pd]   \n",
       "2       code       {}  [boston = pd.read_csv('crimes-in-boston/crime....   \n",
       "3   markdown       {}                        [### View some of the rows]   \n",
       "4       code       {}                                    [boston.head()]   \n",
       "5       code       {}                                    [boston.tail()]   \n",
       "6   markdown       {}                          [## Simple data analysis]   \n",
       "7       code       {}                                [boston.describe()]   \n",
       "8       code       {}      [(boston.DAY_OF_WEEK == 'Sunday').describe()]   \n",
       "9   markdown       {}                                [## Histogram\\n,  ]   \n",
       "10      code       {}                               [%matplotlib inline]   \n",
       "11      code       {}                  [histogram = boston.hist('HOUR')]   \n",
       "12      code       {}                 [histogram = boston.hist('MONTH')]   \n",
       "13      code       {}                                                 []   \n",
       "\n",
       "    execution_count outputs  \n",
       "0               NaN     NaN  \n",
       "1               NaN      []  \n",
       "2               NaN      []  \n",
       "3               NaN     NaN  \n",
       "4               NaN      []  \n",
       "5               NaN      []  \n",
       "6               NaN     NaN  \n",
       "7               NaN      []  \n",
       "8               NaN      []  \n",
       "9               NaN     NaN  \n",
       "10              NaN      []  \n",
       "11              NaN      []  \n",
       "12              NaN      []  \n",
       "13              NaN      []  "
      ]
     },
     "execution_count": 76,
     "metadata": {},
     "output_type": "execute_result"
    }
   ],
   "source": [
    "json_data_frame"
   ]
  },
  {
   "cell_type": "code",
   "execution_count": 45,
   "metadata": {},
   "outputs": [
    {
     "name": "stdout",
     "output_type": "stream",
     "text": [
      "1.1.3\n"
     ]
    }
   ],
   "source": [
    "print(pd.__version__)"
   ]
  },
  {
   "cell_type": "code",
   "execution_count": 47,
   "metadata": {},
   "outputs": [
    {
     "data": {
      "text/plain": [
       "0     1\n",
       "1     2\n",
       "2     3\n",
       "3     5\n",
       "4     8\n",
       "5    13\n",
       "6    21\n",
       "dtype: int64"
      ]
     },
     "execution_count": 47,
     "metadata": {},
     "output_type": "execute_result"
    }
   ],
   "source": [
    "# Series\n",
    "fib = [1,2,3,5,8,13,21]\n",
    "panda_arr = pd.Series(fib)\n",
    "panda_arr"
   ]
  },
  {
   "cell_type": "code",
   "execution_count": 50,
   "metadata": {},
   "outputs": [
    {
     "name": "stdout",
     "output_type": "stream",
     "text": [
      "a     1\n",
      "b     2\n",
      "c     3\n",
      "d     5\n",
      "e     8\n",
      "f    13\n",
      "g    21\n",
      "dtype: int64\n",
      "8\n"
     ]
    }
   ],
   "source": [
    "# by default, the values are labeled with indexes. we can also create our own labels for both series and dataframe\n",
    "panda_ser_labels = pd.Series(fib,index=['a','b','c','d','e','f','g'])\n",
    "print(panda_ser_labels)\n",
    "print(panda_ser_labels['e'])"
   ]
  },
  {
   "cell_type": "code",
   "execution_count": 52,
   "metadata": {},
   "outputs": [
    {
     "data": {
      "text/plain": [
       "hyd        56\n",
       "del        78\n",
       "chennai    34\n",
       "dtype: int64"
      ]
     },
     "execution_count": 52,
     "metadata": {},
     "output_type": "execute_result"
    }
   ],
   "source": [
    "# we can also pass a dictionary to a series. In such case, keys becomes the labels\n",
    "dict_val = {'hyd' : 56,'del' : 78,'chennai' : 34}\n",
    "series_dict = pd.Series(dict_val)\n",
    "series_dict"
   ]
  },
  {
   "cell_type": "code",
   "execution_count": 2,
   "metadata": {},
   "outputs": [
    {
     "name": "stdout",
     "output_type": "stream",
     "text": [
      "Number of rows:2\n",
      "Number of columns:3\n",
      "Enter the entries row-wise:\n",
      "1\n",
      "2\n",
      "3\n",
      "4\n",
      "5\n",
      "6\n",
      "1 2 3 \n",
      "4 5 6 \n"
     ]
    }
   ],
   "source": [
    "n_rows= int(input(\"Number of rows:\"))\n",
    "\n",
    "n_cols = int(input(\"Number of columns:\"))\n",
    "\n",
    "#Define the matrix\n",
    "\n",
    "matrix = [ ]\n",
    "\n",
    "print(\"Enter the entries row-wise:\")\n",
    "\n",
    "#for user input\n",
    "\n",
    "for i in range(n_rows):          # A for loop for row entries\n",
    "\n",
    "    a =[ ]\n",
    "\n",
    "    for j in range(n_cols):      # A for loop for column entries\n",
    "\n",
    "         a.append(int(input()))\n",
    "\n",
    "    matrix.append(a)\n",
    "\n",
    "  \n",
    "\n",
    "#To print the matrix\n",
    "\n",
    "for i in range(n_rows):\n",
    "\n",
    "    for j in range(n_cols):\n",
    "\n",
    "        print(matrix[i][j], end = \" \")\n",
    "\n",
    "    print( )"
   ]
  },
  {
   "cell_type": "code",
   "execution_count": 2,
   "metadata": {},
   "outputs": [
    {
     "name": "stdout",
     "output_type": "stream",
     "text": [
      "<class 'tuple'>\n"
     ]
    }
   ],
   "source": [
    "a = ('stas',)\n",
    "print(type(a))"
   ]
  },
  {
   "cell_type": "code",
   "execution_count": 5,
   "metadata": {},
   "outputs": [
    {
     "data": {
      "text/plain": [
       "[4, 5, 6, 1, 2, 3]"
      ]
     },
     "execution_count": 5,
     "metadata": {},
     "output_type": "execute_result"
    }
   ],
   "source": [
    "a = (1,2,3)\n",
    "b = [4,5,6]\n",
    "#a+=b\n",
    "b+=a\n",
    "b"
   ]
  },
  {
   "cell_type": "code",
   "execution_count": 10,
   "metadata": {},
   "outputs": [
    {
     "ename": "SyntaxError",
     "evalue": "invalid syntax (<ipython-input-10-0c66ff8d6329>, line 2)",
     "output_type": "error",
     "traceback": [
      "\u001b[1;36m  File \u001b[1;32m\"<ipython-input-10-0c66ff8d6329>\"\u001b[1;36m, line \u001b[1;32m2\u001b[0m\n\u001b[1;33m    print(numbers *=3)\u001b[0m\n\u001b[1;37m                  ^\u001b[0m\n\u001b[1;31mSyntaxError\u001b[0m\u001b[1;31m:\u001b[0m invalid syntax\n"
     ]
    }
   ],
   "source": [
    "numbers = [3,5,7,8,3,6,9,2,5,8]"
   ]
  },
  {
   "cell_type": "code",
   "execution_count": null,
   "metadata": {},
   "outputs": [],
   "source": []
  }
 ],
 "metadata": {
  "kernelspec": {
   "display_name": "Python 3",
   "language": "python",
   "name": "python3"
  },
  "language_info": {
   "codemirror_mode": {
    "name": "ipython",
    "version": 3
   },
   "file_extension": ".py",
   "mimetype": "text/x-python",
   "name": "python",
   "nbconvert_exporter": "python",
   "pygments_lexer": "ipython3",
   "version": "3.8.5"
  }
 },
 "nbformat": 4,
 "nbformat_minor": 4
}
